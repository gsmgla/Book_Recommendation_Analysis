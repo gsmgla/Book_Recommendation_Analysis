{
 "cells": [
  {
   "cell_type": "markdown",
   "id": "114f7316",
   "metadata": {},
   "source": [
    "# 6.2 Exploring Relationships"
   ]
  },
  {
   "cell_type": "markdown",
   "id": "6d824a99",
   "metadata": {},
   "source": [
    "### This script contains the following:\n",
    "\n",
    "#### 1. Importing Visualization Libraries and Data\n",
    "#### 2. Data Cleaning\n",
    "#### 3. Exploring Relationships\n",
    "     Pair Plots\n",
    "     Categorical Plots\n",
    "     Bar Plots\n",
    "     Creating categories for the ratings 1-10\n",
    "     Renaming Countries\n",
    "     Creating a Continent column\n",
    "#### 4. Questions and Answers "
   ]
  },
  {
   "cell_type": "markdown",
   "id": "05c3c329",
   "metadata": {},
   "source": [
    "### 1. Importing Visualization Libraries and Data"
   ]
  },
  {
   "cell_type": "code",
   "execution_count": 4,
   "id": "5eafa5a5",
   "metadata": {},
   "outputs": [],
   "source": [
    "# Import libraries\n",
    "\n",
    "import numpy as np\n",
    "import pandas as pd\n",
    "import matplotlib.pyplot as plt\n",
    "import seaborn as sns\n",
    "import scipy\n",
    "import ipywidgets as widgets\n",
    "from IPython.display import display, clear_output\n",
    "\n",
    "import os, sys\n",
    "import re"
   ]
  },
  {
   "cell_type": "code",
   "execution_count": 5,
   "id": "fd4ccc37",
   "metadata": {},
   "outputs": [],
   "source": [
    "# This option ensures the charts you create are displayed in the notebook without the need to \"call\" them specifically.\n",
    "\n",
    "%matplotlib inline"
   ]
  },
  {
   "cell_type": "code",
   "execution_count": 6,
   "id": "93994835",
   "metadata": {},
   "outputs": [],
   "source": [
    "# Import Prepared Data (Path)\n",
    "\n",
    "path = r'/Users/ladyarmanoid/Documents/__Further Trainings/Data Analytics/CareerFoundry/Course/2- Data Immersion/Achievement 6/Book Recommendation Analysis/'\n",
    "\n",
    "# Import data\n",
    "\n",
    "df = pd.read_pickle(os.path.join(path, '02 Data','Prepared Data', 'books_ratings_users.pkl'))"
   ]
  },
  {
   "cell_type": "markdown",
   "id": "851be454",
   "metadata": {},
   "source": [
    "### 2. Data Cleaning"
   ]
  },
  {
   "cell_type": "markdown",
   "id": "986b403a",
   "metadata": {},
   "source": [
    "#### Dropping Columns:"
   ]
  },
  {
   "cell_type": "code",
   "execution_count": 7,
   "id": "f0cd53d5",
   "metadata": {},
   "outputs": [
    {
     "data": {
      "text/plain": [
       "(1149780, 12)"
      ]
     },
     "execution_count": 7,
     "metadata": {},
     "output_type": "execute_result"
    }
   ],
   "source": [
    "df.shape"
   ]
  },
  {
   "cell_type": "code",
   "execution_count": 8,
   "id": "e358e152",
   "metadata": {},
   "outputs": [
    {
     "data": {
      "text/plain": [
       "Index(['ISBN', 'bookTitle', 'bookAuthor', 'yearOfPublication', 'publisher',\n",
       "       'User-ID', 'Book-Rating', 'Location', 'Age', 'City', 'Country',\n",
       "       '_merge'],\n",
       "      dtype='object')"
      ]
     },
     "execution_count": 8,
     "metadata": {},
     "output_type": "execute_result"
    }
   ],
   "source": [
    "df.columns"
   ]
  },
  {
   "cell_type": "code",
   "execution_count": 9,
   "id": "e30c8fa5",
   "metadata": {},
   "outputs": [
    {
     "data": {
      "text/html": [
       "<div>\n",
       "<style scoped>\n",
       "    .dataframe tbody tr th:only-of-type {\n",
       "        vertical-align: middle;\n",
       "    }\n",
       "\n",
       "    .dataframe tbody tr th {\n",
       "        vertical-align: top;\n",
       "    }\n",
       "\n",
       "    .dataframe thead th {\n",
       "        text-align: right;\n",
       "    }\n",
       "</style>\n",
       "<table border=\"1\" class=\"dataframe\">\n",
       "  <thead>\n",
       "    <tr style=\"text-align: right;\">\n",
       "      <th></th>\n",
       "      <th>ISBN</th>\n",
       "      <th>bookTitle</th>\n",
       "      <th>bookAuthor</th>\n",
       "      <th>yearOfPublication</th>\n",
       "      <th>publisher</th>\n",
       "      <th>User-ID</th>\n",
       "      <th>Book-Rating</th>\n",
       "      <th>Location</th>\n",
       "      <th>Age</th>\n",
       "      <th>City</th>\n",
       "      <th>Country</th>\n",
       "      <th>_merge</th>\n",
       "    </tr>\n",
       "  </thead>\n",
       "  <tbody>\n",
       "    <tr>\n",
       "      <th>0</th>\n",
       "      <td>0195153448</td>\n",
       "      <td>Classical Mythology</td>\n",
       "      <td>Mark P. O. Morford</td>\n",
       "      <td>2002.0</td>\n",
       "      <td>Oxford University Press</td>\n",
       "      <td>2.0</td>\n",
       "      <td>0.0</td>\n",
       "      <td>stockton, california, usa</td>\n",
       "      <td>18</td>\n",
       "      <td>stockton</td>\n",
       "      <td>usa</td>\n",
       "      <td>both</td>\n",
       "    </tr>\n",
       "    <tr>\n",
       "      <th>1</th>\n",
       "      <td>0002005018</td>\n",
       "      <td>Clara Callan</td>\n",
       "      <td>Richard Bruce Wright</td>\n",
       "      <td>2001.0</td>\n",
       "      <td>HarperFlamingo Canada</td>\n",
       "      <td>8.0</td>\n",
       "      <td>5.0</td>\n",
       "      <td>timmins, ontario, canada</td>\n",
       "      <td>34</td>\n",
       "      <td>timmins</td>\n",
       "      <td>canada</td>\n",
       "      <td>both</td>\n",
       "    </tr>\n",
       "    <tr>\n",
       "      <th>2</th>\n",
       "      <td>0060973129</td>\n",
       "      <td>Decision in Normandy</td>\n",
       "      <td>Carlo D'Este</td>\n",
       "      <td>1991.0</td>\n",
       "      <td>HarperPerennial</td>\n",
       "      <td>8.0</td>\n",
       "      <td>0.0</td>\n",
       "      <td>timmins, ontario, canada</td>\n",
       "      <td>34</td>\n",
       "      <td>timmins</td>\n",
       "      <td>canada</td>\n",
       "      <td>both</td>\n",
       "    </tr>\n",
       "    <tr>\n",
       "      <th>3</th>\n",
       "      <td>0374157065</td>\n",
       "      <td>Flu: The Story of the Great Influenza Pandemic...</td>\n",
       "      <td>Gina Bari Kolata</td>\n",
       "      <td>1999.0</td>\n",
       "      <td>Farrar Straus Giroux</td>\n",
       "      <td>8.0</td>\n",
       "      <td>0.0</td>\n",
       "      <td>timmins, ontario, canada</td>\n",
       "      <td>34</td>\n",
       "      <td>timmins</td>\n",
       "      <td>canada</td>\n",
       "      <td>both</td>\n",
       "    </tr>\n",
       "    <tr>\n",
       "      <th>4</th>\n",
       "      <td>0393045218</td>\n",
       "      <td>The Mummies of Urumchi</td>\n",
       "      <td>E. J. W. Barber</td>\n",
       "      <td>1999.0</td>\n",
       "      <td>W. W. Norton &amp;amp; Company</td>\n",
       "      <td>8.0</td>\n",
       "      <td>0.0</td>\n",
       "      <td>timmins, ontario, canada</td>\n",
       "      <td>34</td>\n",
       "      <td>timmins</td>\n",
       "      <td>canada</td>\n",
       "      <td>both</td>\n",
       "    </tr>\n",
       "  </tbody>\n",
       "</table>\n",
       "</div>"
      ],
      "text/plain": [
       "         ISBN                                          bookTitle  \\\n",
       "0  0195153448                                Classical Mythology   \n",
       "1  0002005018                                       Clara Callan   \n",
       "2  0060973129                               Decision in Normandy   \n",
       "3  0374157065  Flu: The Story of the Great Influenza Pandemic...   \n",
       "4  0393045218                             The Mummies of Urumchi   \n",
       "\n",
       "             bookAuthor  yearOfPublication                   publisher  \\\n",
       "0    Mark P. O. Morford             2002.0     Oxford University Press   \n",
       "1  Richard Bruce Wright             2001.0       HarperFlamingo Canada   \n",
       "2          Carlo D'Este             1991.0             HarperPerennial   \n",
       "3      Gina Bari Kolata             1999.0        Farrar Straus Giroux   \n",
       "4       E. J. W. Barber             1999.0  W. W. Norton &amp; Company   \n",
       "\n",
       "   User-ID  Book-Rating                   Location  Age      City  Country  \\\n",
       "0      2.0          0.0  stockton, california, usa   18  stockton      usa   \n",
       "1      8.0          5.0   timmins, ontario, canada   34   timmins   canada   \n",
       "2      8.0          0.0   timmins, ontario, canada   34   timmins   canada   \n",
       "3      8.0          0.0   timmins, ontario, canada   34   timmins   canada   \n",
       "4      8.0          0.0   timmins, ontario, canada   34   timmins   canada   \n",
       "\n",
       "  _merge  \n",
       "0   both  \n",
       "1   both  \n",
       "2   both  \n",
       "3   both  \n",
       "4   both  "
      ]
     },
     "execution_count": 9,
     "metadata": {},
     "output_type": "execute_result"
    }
   ],
   "source": [
    "df.head()"
   ]
  },
  {
   "cell_type": "code",
   "execution_count": 10,
   "id": "ced3a1bb",
   "metadata": {},
   "outputs": [
    {
     "data": {
      "text/plain": [
       "Index(['ISBN', 'bookTitle', 'bookAuthor', 'yearOfPublication', 'publisher',\n",
       "       'User-ID', 'Book-Rating', 'Location', 'Age', 'City', 'Country'],\n",
       "      dtype='object')"
      ]
     },
     "execution_count": 10,
     "metadata": {},
     "output_type": "execute_result"
    }
   ],
   "source": [
    "# Drop column '_merge' as no longer needed\n",
    "\n",
    "df = df.drop(columns =['_merge'])\n",
    "\n",
    "# Check output\n",
    "\n",
    "df.columns"
   ]
  },
  {
   "cell_type": "code",
   "execution_count": 11,
   "id": "c65142c7",
   "metadata": {},
   "outputs": [
    {
     "data": {
      "text/plain": [
       "ISBN                  object\n",
       "bookTitle             object\n",
       "bookAuthor            object\n",
       "yearOfPublication    float64\n",
       "publisher             object\n",
       "User-ID              float64\n",
       "Book-Rating          float64\n",
       "Location              object\n",
       "Age                    int32\n",
       "City                  object\n",
       "Country               object\n",
       "dtype: object"
      ]
     },
     "execution_count": 11,
     "metadata": {},
     "output_type": "execute_result"
    }
   ],
   "source": [
    "df.dtypes"
   ]
  },
  {
   "cell_type": "markdown",
   "id": "2a91d92b",
   "metadata": {},
   "source": [
    "#### Missing Values Check:"
   ]
  },
  {
   "cell_type": "code",
   "execution_count": 12,
   "id": "cfde4a19",
   "metadata": {},
   "outputs": [
    {
     "data": {
      "text/plain": [
       "ISBN                      0\n",
       "bookTitle            118644\n",
       "bookAuthor           118644\n",
       "yearOfPublication    118644\n",
       "publisher            118644\n",
       "User-ID                   0\n",
       "Book-Rating               0\n",
       "Location                  0\n",
       "Age                       0\n",
       "City                      0\n",
       "Country                   0\n",
       "dtype: int64"
      ]
     },
     "execution_count": 12,
     "metadata": {},
     "output_type": "execute_result"
    }
   ],
   "source": [
    "# Check for missing values\n",
    "\n",
    "df.isnull().sum()\n",
    "\n",
    "# No missing values for the main variables\n",
    "# The missing values found for the 'bookTitle', 'bookAuthor', and 'publisher' have no impact\n",
    "# The missing values for 'yearOfPublication' will be addressed"
   ]
  },
  {
   "cell_type": "code",
   "execution_count": 13,
   "id": "fd9218cf",
   "metadata": {},
   "outputs": [],
   "source": [
    "# Find duplicates\n",
    "\n",
    "df_dups = df[df.duplicated()]"
   ]
  },
  {
   "cell_type": "code",
   "execution_count": 14,
   "id": "76a675d2",
   "metadata": {},
   "outputs": [
    {
     "data": {
      "text/plain": [
       "(0, 11)"
      ]
     },
     "execution_count": 14,
     "metadata": {},
     "output_type": "execute_result"
    }
   ],
   "source": [
    "df_dups.shape # No duplicates!"
   ]
  },
  {
   "cell_type": "code",
   "execution_count": 15,
   "id": "09555b9a",
   "metadata": {},
   "outputs": [],
   "source": [
    "#### Mixed-Type Data:"
   ]
  },
  {
   "cell_type": "code",
   "execution_count": 16,
   "id": "f7b129e5",
   "metadata": {},
   "outputs": [
    {
     "name": "stderr",
     "output_type": "stream",
     "text": [
      "/var/folders/bx/5gbvgdk148552knvq9wj8vgm0000gn/T/ipykernel_21300/106746206.py:2: FutureWarning: DataFrame.applymap has been deprecated. Use DataFrame.map instead.\n",
      "  weird = (df[[col]].applymap(type) != df[[col]].iloc[0].apply(type)).any(axis = 1)\n",
      "/var/folders/bx/5gbvgdk148552knvq9wj8vgm0000gn/T/ipykernel_21300/106746206.py:2: FutureWarning: DataFrame.applymap has been deprecated. Use DataFrame.map instead.\n",
      "  weird = (df[[col]].applymap(type) != df[[col]].iloc[0].apply(type)).any(axis = 1)\n"
     ]
    },
    {
     "name": "stdout",
     "output_type": "stream",
     "text": [
      "bookTitle\n",
      "bookAuthor\n"
     ]
    },
    {
     "name": "stderr",
     "output_type": "stream",
     "text": [
      "/var/folders/bx/5gbvgdk148552knvq9wj8vgm0000gn/T/ipykernel_21300/106746206.py:2: FutureWarning: DataFrame.applymap has been deprecated. Use DataFrame.map instead.\n",
      "  weird = (df[[col]].applymap(type) != df[[col]].iloc[0].apply(type)).any(axis = 1)\n",
      "/var/folders/bx/5gbvgdk148552knvq9wj8vgm0000gn/T/ipykernel_21300/106746206.py:2: FutureWarning: DataFrame.applymap has been deprecated. Use DataFrame.map instead.\n",
      "  weird = (df[[col]].applymap(type) != df[[col]].iloc[0].apply(type)).any(axis = 1)\n",
      "/var/folders/bx/5gbvgdk148552knvq9wj8vgm0000gn/T/ipykernel_21300/106746206.py:2: FutureWarning: DataFrame.applymap has been deprecated. Use DataFrame.map instead.\n",
      "  weird = (df[[col]].applymap(type) != df[[col]].iloc[0].apply(type)).any(axis = 1)\n",
      "/var/folders/bx/5gbvgdk148552knvq9wj8vgm0000gn/T/ipykernel_21300/106746206.py:2: FutureWarning: DataFrame.applymap has been deprecated. Use DataFrame.map instead.\n",
      "  weird = (df[[col]].applymap(type) != df[[col]].iloc[0].apply(type)).any(axis = 1)\n"
     ]
    },
    {
     "name": "stdout",
     "output_type": "stream",
     "text": [
      "publisher\n"
     ]
    },
    {
     "name": "stderr",
     "output_type": "stream",
     "text": [
      "/var/folders/bx/5gbvgdk148552knvq9wj8vgm0000gn/T/ipykernel_21300/106746206.py:2: FutureWarning: DataFrame.applymap has been deprecated. Use DataFrame.map instead.\n",
      "  weird = (df[[col]].applymap(type) != df[[col]].iloc[0].apply(type)).any(axis = 1)\n",
      "/var/folders/bx/5gbvgdk148552knvq9wj8vgm0000gn/T/ipykernel_21300/106746206.py:2: FutureWarning: DataFrame.applymap has been deprecated. Use DataFrame.map instead.\n",
      "  weird = (df[[col]].applymap(type) != df[[col]].iloc[0].apply(type)).any(axis = 1)\n",
      "/var/folders/bx/5gbvgdk148552knvq9wj8vgm0000gn/T/ipykernel_21300/106746206.py:2: FutureWarning: DataFrame.applymap has been deprecated. Use DataFrame.map instead.\n",
      "  weird = (df[[col]].applymap(type) != df[[col]].iloc[0].apply(type)).any(axis = 1)\n",
      "/var/folders/bx/5gbvgdk148552knvq9wj8vgm0000gn/T/ipykernel_21300/106746206.py:2: FutureWarning: DataFrame.applymap has been deprecated. Use DataFrame.map instead.\n",
      "  weird = (df[[col]].applymap(type) != df[[col]].iloc[0].apply(type)).any(axis = 1)\n",
      "/var/folders/bx/5gbvgdk148552knvq9wj8vgm0000gn/T/ipykernel_21300/106746206.py:2: FutureWarning: DataFrame.applymap has been deprecated. Use DataFrame.map instead.\n",
      "  weird = (df[[col]].applymap(type) != df[[col]].iloc[0].apply(type)).any(axis = 1)\n"
     ]
    }
   ],
   "source": [
    "for col in df.columns.tolist():\n",
    "      weird = (df[[col]].applymap(type) != df[[col]].iloc[0].apply(type)).any(axis = 1)\n",
    "      if len (df[weird]) > 0:\n",
    "        print (col)\n",
    "        \n",
    "# Mixed-type columns for 'bookTitle', 'bookAuthor' and 'publisher'\n",
    "# The three columns are showing NaN values"
   ]
  },
  {
   "cell_type": "code",
   "execution_count": 17,
   "id": "3f415133",
   "metadata": {},
   "outputs": [
    {
     "data": {
      "text/plain": [
       "0                                        Classical Mythology\n",
       "1                                               Clara Callan\n",
       "2                                       Decision in Normandy\n",
       "3          Flu: The Story of the Great Influenza Pandemic...\n",
       "4                                     The Mummies of Urumchi\n",
       "                                 ...                        \n",
       "1149775                                                  NaN\n",
       "1149776                                                  NaN\n",
       "1149777                                                  NaN\n",
       "1149778                                                  NaN\n",
       "1149779                                                  NaN\n",
       "Name: bookTitle, Length: 1149780, dtype: object"
      ]
     },
     "execution_count": 17,
     "metadata": {},
     "output_type": "execute_result"
    }
   ],
   "source": [
    "df['bookTitle']"
   ]
  },
  {
   "cell_type": "code",
   "execution_count": 18,
   "id": "434a54c7",
   "metadata": {},
   "outputs": [
    {
     "data": {
      "text/plain": [
       "0            Mark P. O. Morford\n",
       "1          Richard Bruce Wright\n",
       "2                  Carlo D'Este\n",
       "3              Gina Bari Kolata\n",
       "4               E. J. W. Barber\n",
       "                   ...         \n",
       "1149775                     NaN\n",
       "1149776                     NaN\n",
       "1149777                     NaN\n",
       "1149778                     NaN\n",
       "1149779                     NaN\n",
       "Name: bookAuthor, Length: 1149780, dtype: object"
      ]
     },
     "execution_count": 18,
     "metadata": {},
     "output_type": "execute_result"
    }
   ],
   "source": [
    "df['bookAuthor']"
   ]
  },
  {
   "cell_type": "code",
   "execution_count": 19,
   "id": "bd702af3",
   "metadata": {},
   "outputs": [
    {
     "data": {
      "text/plain": [
       "0             Oxford University Press\n",
       "1               HarperFlamingo Canada\n",
       "2                     HarperPerennial\n",
       "3                Farrar Straus Giroux\n",
       "4          W. W. Norton &amp; Company\n",
       "                      ...            \n",
       "1149775                           NaN\n",
       "1149776                           NaN\n",
       "1149777                           NaN\n",
       "1149778                           NaN\n",
       "1149779                           NaN\n",
       "Name: publisher, Length: 1149780, dtype: object"
      ]
     },
     "execution_count": 19,
     "metadata": {},
     "output_type": "execute_result"
    }
   ],
   "source": [
    "df['publisher']"
   ]
  },
  {
   "cell_type": "markdown",
   "id": "5a839d06",
   "metadata": {},
   "source": [
    "#### Replacing NaN with 'Unknown' on Multiple Columns"
   ]
  },
  {
   "cell_type": "code",
   "execution_count": 20,
   "id": "4825a261",
   "metadata": {},
   "outputs": [
    {
     "name": "stdout",
     "output_type": "stream",
     "text": [
      "After replacing the NaN values                                                  bookTitle  \\\n",
      "0                                      Classical Mythology   \n",
      "1                                             Clara Callan   \n",
      "2                                     Decision in Normandy   \n",
      "3        Flu: The Story of the Great Influenza Pandemic...   \n",
      "4                                   The Mummies of Urumchi   \n",
      "...                                                    ...   \n",
      "1149775                                            Unknown   \n",
      "1149776                                            Unknown   \n",
      "1149777                                            Unknown   \n",
      "1149778                                            Unknown   \n",
      "1149779                                            Unknown   \n",
      "\n",
      "                   bookAuthor                   publisher  \n",
      "0          Mark P. O. Morford     Oxford University Press  \n",
      "1        Richard Bruce Wright       HarperFlamingo Canada  \n",
      "2                Carlo D'Este             HarperPerennial  \n",
      "3            Gina Bari Kolata        Farrar Straus Giroux  \n",
      "4             E. J. W. Barber  W. W. Norton &amp; Company  \n",
      "...                       ...                         ...  \n",
      "1149775               Unknown                     Unknown  \n",
      "1149776               Unknown                     Unknown  \n",
      "1149777               Unknown                     Unknown  \n",
      "1149778               Unknown                     Unknown  \n",
      "1149779               Unknown                     Unknown  \n",
      "\n",
      "[1149780 rows x 3 columns]\n"
     ]
    }
   ],
   "source": [
    "# Using multiple columns\n",
    "\n",
    "df2 = df[['bookTitle','bookAuthor', 'publisher' ]] = df[['bookTitle','bookAuthor', 'publisher' ]].fillna('Unknown')\n",
    "print(\"After replacing the NaN values\", df2)"
   ]
  },
  {
   "cell_type": "code",
   "execution_count": 21,
   "id": "663303bc",
   "metadata": {},
   "outputs": [
    {
     "data": {
      "text/html": [
       "<div>\n",
       "<style scoped>\n",
       "    .dataframe tbody tr th:only-of-type {\n",
       "        vertical-align: middle;\n",
       "    }\n",
       "\n",
       "    .dataframe tbody tr th {\n",
       "        vertical-align: top;\n",
       "    }\n",
       "\n",
       "    .dataframe thead th {\n",
       "        text-align: right;\n",
       "    }\n",
       "</style>\n",
       "<table border=\"1\" class=\"dataframe\">\n",
       "  <thead>\n",
       "    <tr style=\"text-align: right;\">\n",
       "      <th></th>\n",
       "      <th>bookTitle</th>\n",
       "      <th>bookAuthor</th>\n",
       "      <th>publisher</th>\n",
       "    </tr>\n",
       "  </thead>\n",
       "  <tbody>\n",
       "    <tr>\n",
       "      <th>1149775</th>\n",
       "      <td>Unknown</td>\n",
       "      <td>Unknown</td>\n",
       "      <td>Unknown</td>\n",
       "    </tr>\n",
       "    <tr>\n",
       "      <th>1149776</th>\n",
       "      <td>Unknown</td>\n",
       "      <td>Unknown</td>\n",
       "      <td>Unknown</td>\n",
       "    </tr>\n",
       "    <tr>\n",
       "      <th>1149777</th>\n",
       "      <td>Unknown</td>\n",
       "      <td>Unknown</td>\n",
       "      <td>Unknown</td>\n",
       "    </tr>\n",
       "    <tr>\n",
       "      <th>1149778</th>\n",
       "      <td>Unknown</td>\n",
       "      <td>Unknown</td>\n",
       "      <td>Unknown</td>\n",
       "    </tr>\n",
       "    <tr>\n",
       "      <th>1149779</th>\n",
       "      <td>Unknown</td>\n",
       "      <td>Unknown</td>\n",
       "      <td>Unknown</td>\n",
       "    </tr>\n",
       "  </tbody>\n",
       "</table>\n",
       "</div>"
      ],
      "text/plain": [
       "        bookTitle bookAuthor publisher\n",
       "1149775   Unknown    Unknown   Unknown\n",
       "1149776   Unknown    Unknown   Unknown\n",
       "1149777   Unknown    Unknown   Unknown\n",
       "1149778   Unknown    Unknown   Unknown\n",
       "1149779   Unknown    Unknown   Unknown"
      ]
     },
     "execution_count": 21,
     "metadata": {},
     "output_type": "execute_result"
    }
   ],
   "source": [
    "df2.tail()"
   ]
  },
  {
   "cell_type": "code",
   "execution_count": 22,
   "id": "8d43a52e",
   "metadata": {},
   "outputs": [
    {
     "data": {
      "text/plain": [
       "Index(['bookTitle', 'bookAuthor', 'publisher'], dtype='object')"
      ]
     },
     "execution_count": 22,
     "metadata": {},
     "output_type": "execute_result"
    }
   ],
   "source": [
    "df2.columns"
   ]
  },
  {
   "cell_type": "code",
   "execution_count": 23,
   "id": "987c006b",
   "metadata": {},
   "outputs": [
    {
     "data": {
      "text/html": [
       "<div>\n",
       "<style scoped>\n",
       "    .dataframe tbody tr th:only-of-type {\n",
       "        vertical-align: middle;\n",
       "    }\n",
       "\n",
       "    .dataframe tbody tr th {\n",
       "        vertical-align: top;\n",
       "    }\n",
       "\n",
       "    .dataframe thead th {\n",
       "        text-align: right;\n",
       "    }\n",
       "</style>\n",
       "<table border=\"1\" class=\"dataframe\">\n",
       "  <thead>\n",
       "    <tr style=\"text-align: right;\">\n",
       "      <th></th>\n",
       "      <th>ISBN</th>\n",
       "      <th>bookTitle</th>\n",
       "      <th>bookAuthor</th>\n",
       "      <th>yearOfPublication</th>\n",
       "      <th>publisher</th>\n",
       "      <th>User-ID</th>\n",
       "      <th>Book-Rating</th>\n",
       "      <th>Location</th>\n",
       "      <th>Age</th>\n",
       "      <th>City</th>\n",
       "      <th>Country</th>\n",
       "    </tr>\n",
       "  </thead>\n",
       "  <tbody>\n",
       "    <tr>\n",
       "      <th>1149775</th>\n",
       "      <td>8886661975</td>\n",
       "      <td>Unknown</td>\n",
       "      <td>Unknown</td>\n",
       "      <td>NaN</td>\n",
       "      <td>Unknown</td>\n",
       "      <td>276448.0</td>\n",
       "      <td>10.0</td>\n",
       "      <td>torre del greco, campania, italy</td>\n",
       "      <td>34</td>\n",
       "      <td>torre del greco</td>\n",
       "      <td>italy</td>\n",
       "    </tr>\n",
       "    <tr>\n",
       "      <th>1149776</th>\n",
       "      <td>7222025634</td>\n",
       "      <td>Unknown</td>\n",
       "      <td>Unknown</td>\n",
       "      <td>NaN</td>\n",
       "      <td>Unknown</td>\n",
       "      <td>276638.0</td>\n",
       "      <td>10.0</td>\n",
       "      <td>shanghai, n/a, china</td>\n",
       "      <td>32</td>\n",
       "      <td>shanghai</td>\n",
       "      <td>china</td>\n",
       "    </tr>\n",
       "    <tr>\n",
       "      <th>1149777</th>\n",
       "      <td>0533233661</td>\n",
       "      <td>Unknown</td>\n",
       "      <td>Unknown</td>\n",
       "      <td>NaN</td>\n",
       "      <td>Unknown</td>\n",
       "      <td>276663.0</td>\n",
       "      <td>5.0</td>\n",
       "      <td>santiago de compostela, galicia, spain</td>\n",
       "      <td>20</td>\n",
       "      <td>santiago de compostela</td>\n",
       "      <td>spain</td>\n",
       "    </tr>\n",
       "    <tr>\n",
       "      <th>1149778</th>\n",
       "      <td>3423120754</td>\n",
       "      <td>Unknown</td>\n",
       "      <td>Unknown</td>\n",
       "      <td>NaN</td>\n",
       "      <td>Unknown</td>\n",
       "      <td>276668.0</td>\n",
       "      <td>8.0</td>\n",
       "      <td>mülheim an der ruhr, nordrhein-westfalen, germany</td>\n",
       "      <td>34</td>\n",
       "      <td>mülheim an der ruhr</td>\n",
       "      <td>germany</td>\n",
       "    </tr>\n",
       "    <tr>\n",
       "      <th>1149779</th>\n",
       "      <td>05162443314</td>\n",
       "      <td>Unknown</td>\n",
       "      <td>Unknown</td>\n",
       "      <td>NaN</td>\n",
       "      <td>Unknown</td>\n",
       "      <td>276723.0</td>\n",
       "      <td>8.0</td>\n",
       "      <td>san antonio, texas, usa</td>\n",
       "      <td>12</td>\n",
       "      <td>san antonio</td>\n",
       "      <td>usa</td>\n",
       "    </tr>\n",
       "  </tbody>\n",
       "</table>\n",
       "</div>"
      ],
      "text/plain": [
       "                ISBN bookTitle bookAuthor  yearOfPublication publisher  \\\n",
       "1149775   8886661975   Unknown    Unknown                NaN   Unknown   \n",
       "1149776   7222025634   Unknown    Unknown                NaN   Unknown   \n",
       "1149777   0533233661   Unknown    Unknown                NaN   Unknown   \n",
       "1149778   3423120754   Unknown    Unknown                NaN   Unknown   \n",
       "1149779  05162443314   Unknown    Unknown                NaN   Unknown   \n",
       "\n",
       "          User-ID  Book-Rating  \\\n",
       "1149775  276448.0         10.0   \n",
       "1149776  276638.0         10.0   \n",
       "1149777  276663.0          5.0   \n",
       "1149778  276668.0          8.0   \n",
       "1149779  276723.0          8.0   \n",
       "\n",
       "                                                  Location  Age  \\\n",
       "1149775                   torre del greco, campania, italy   34   \n",
       "1149776                               shanghai, n/a, china   32   \n",
       "1149777             santiago de compostela, galicia, spain   20   \n",
       "1149778  mülheim an der ruhr, nordrhein-westfalen, germany   34   \n",
       "1149779                            san antonio, texas, usa   12   \n",
       "\n",
       "                           City   Country  \n",
       "1149775         torre del greco     italy  \n",
       "1149776                shanghai     china  \n",
       "1149777  santiago de compostela     spain  \n",
       "1149778     mülheim an der ruhr   germany  \n",
       "1149779             san antonio       usa  "
      ]
     },
     "execution_count": 23,
     "metadata": {},
     "output_type": "execute_result"
    }
   ],
   "source": [
    "df.tail()"
   ]
  },
  {
   "cell_type": "code",
   "execution_count": 24,
   "id": "4332bc29",
   "metadata": {},
   "outputs": [
    {
     "data": {
      "text/plain": [
       "0                                        Classical Mythology\n",
       "1                                               Clara Callan\n",
       "2                                       Decision in Normandy\n",
       "3          Flu: The Story of the Great Influenza Pandemic...\n",
       "4                                     The Mummies of Urumchi\n",
       "                                 ...                        \n",
       "1149775                                              Unknown\n",
       "1149776                                              Unknown\n",
       "1149777                                              Unknown\n",
       "1149778                                              Unknown\n",
       "1149779                                              Unknown\n",
       "Name: bookTitle, Length: 1149780, dtype: object"
      ]
     },
     "execution_count": 24,
     "metadata": {},
     "output_type": "execute_result"
    }
   ],
   "source": [
    "df['bookTitle']"
   ]
  },
  {
   "cell_type": "code",
   "execution_count": 25,
   "id": "83138e6f",
   "metadata": {},
   "outputs": [
    {
     "data": {
      "text/plain": [
       "0            Mark P. O. Morford\n",
       "1          Richard Bruce Wright\n",
       "2                  Carlo D'Este\n",
       "3              Gina Bari Kolata\n",
       "4               E. J. W. Barber\n",
       "                   ...         \n",
       "1149775                 Unknown\n",
       "1149776                 Unknown\n",
       "1149777                 Unknown\n",
       "1149778                 Unknown\n",
       "1149779                 Unknown\n",
       "Name: bookAuthor, Length: 1149780, dtype: object"
      ]
     },
     "execution_count": 25,
     "metadata": {},
     "output_type": "execute_result"
    }
   ],
   "source": [
    "df['bookAuthor']"
   ]
  },
  {
   "cell_type": "code",
   "execution_count": 26,
   "id": "78688d80",
   "metadata": {},
   "outputs": [
    {
     "data": {
      "text/plain": [
       "0             Oxford University Press\n",
       "1               HarperFlamingo Canada\n",
       "2                     HarperPerennial\n",
       "3                Farrar Straus Giroux\n",
       "4          W. W. Norton &amp; Company\n",
       "                      ...            \n",
       "1149775                       Unknown\n",
       "1149776                       Unknown\n",
       "1149777                       Unknown\n",
       "1149778                       Unknown\n",
       "1149779                       Unknown\n",
       "Name: publisher, Length: 1149780, dtype: object"
      ]
     },
     "execution_count": 26,
     "metadata": {},
     "output_type": "execute_result"
    }
   ],
   "source": [
    "df['publisher']"
   ]
  },
  {
   "cell_type": "markdown",
   "id": "c6a12db0",
   "metadata": {},
   "source": [
    "#### Separating the implicit and explicit ratings"
   ]
  },
  {
   "cell_type": "markdown",
   "id": "4856e124",
   "metadata": {},
   "source": [
    "As quoted in the descriptive analysis of the dataset - BX-Book-Ratings contains the book rating information. Ratings are either explicit, expressed on a scale from 1-10 higher values denoting higher appreciation, or implicit, expressed by 0"
   ]
  },
  {
   "cell_type": "code",
   "execution_count": 27,
   "id": "3b19e80f",
   "metadata": {},
   "outputs": [
    {
     "data": {
      "text/plain": [
       "array([ 0.,  5.,  6.,  7.,  9.,  8., 10.,  3.,  1.,  4.,  2.])"
      ]
     },
     "execution_count": 27,
     "metadata": {},
     "output_type": "execute_result"
    }
   ],
   "source": [
    "df['Book-Rating'].unique()"
   ]
  },
  {
   "cell_type": "code",
   "execution_count": 28,
   "id": "12e9aba2",
   "metadata": {},
   "outputs": [],
   "source": [
    "# Creating subsets to only use the 'ratings_explicit' dataframe\n",
    "\n",
    "ratings_explicit = df[df['Book-Rating'] != 0]\n",
    "ratings_implicit = df[df['Book-Rating'] == 0]"
   ]
  },
  {
   "cell_type": "code",
   "execution_count": 29,
   "id": "7ccd0629",
   "metadata": {},
   "outputs": [
    {
     "data": {
      "text/plain": [
       "ISBN                     0\n",
       "bookTitle                0\n",
       "bookAuthor               0\n",
       "yearOfPublication    49829\n",
       "publisher                0\n",
       "User-ID                  0\n",
       "Book-Rating              0\n",
       "Location                 0\n",
       "Age                      0\n",
       "City                     0\n",
       "Country                  0\n",
       "dtype: int64"
      ]
     },
     "execution_count": 29,
     "metadata": {},
     "output_type": "execute_result"
    }
   ],
   "source": [
    "# Check for missing values in 'ratings_explicit'\n",
    "\n",
    "ratings_explicit.isnull().sum()"
   ]
  },
  {
   "cell_type": "code",
   "execution_count": 30,
   "id": "3e240243",
   "metadata": {},
   "outputs": [
    {
     "data": {
      "text/plain": [
       "<bound method Series.info of 1          2001.0\n",
       "9          2002.0\n",
       "12         2004.0\n",
       "13         1999.0\n",
       "15         1998.0\n",
       "            ...  \n",
       "1149775       NaN\n",
       "1149776       NaN\n",
       "1149777       NaN\n",
       "1149778       NaN\n",
       "1149779       NaN\n",
       "Name: yearOfPublication, Length: 433671, dtype: float64>"
      ]
     },
     "execution_count": 30,
     "metadata": {},
     "output_type": "execute_result"
    }
   ],
   "source": [
    "ratings_explicit['yearOfPublication'].info # The 'yearOfPublication' variable has NaN values"
   ]
  },
  {
   "cell_type": "code",
   "execution_count": 31,
   "id": "a6b21ff7",
   "metadata": {},
   "outputs": [
    {
     "data": {
      "text/plain": [
       "yearOfPublication\n",
       "NaN       49829\n",
       "2002.0    37986\n",
       "2001.0    32331\n",
       "2003.0    29166\n",
       "1999.0    29100\n",
       "          ...  \n",
       "1806.0        1\n",
       "1934.0        1\n",
       "1378.0        1\n",
       "1904.0        1\n",
       "1376.0        1\n",
       "Name: count, Length: 96, dtype: int64"
      ]
     },
     "execution_count": 31,
     "metadata": {},
     "output_type": "execute_result"
    }
   ],
   "source": [
    "ratings_explicit['yearOfPublication'].value_counts(dropna = False)"
   ]
  },
  {
   "cell_type": "code",
   "execution_count": 32,
   "id": "d95688b7",
   "metadata": {},
   "outputs": [
    {
     "data": {
      "text/html": [
       "<div>\n",
       "<style scoped>\n",
       "    .dataframe tbody tr th:only-of-type {\n",
       "        vertical-align: middle;\n",
       "    }\n",
       "\n",
       "    .dataframe tbody tr th {\n",
       "        vertical-align: top;\n",
       "    }\n",
       "\n",
       "    .dataframe thead th {\n",
       "        text-align: right;\n",
       "    }\n",
       "</style>\n",
       "<table border=\"1\" class=\"dataframe\">\n",
       "  <thead>\n",
       "    <tr style=\"text-align: right;\">\n",
       "      <th></th>\n",
       "      <th>ISBN</th>\n",
       "      <th>bookTitle</th>\n",
       "      <th>bookAuthor</th>\n",
       "      <th>yearOfPublication</th>\n",
       "      <th>publisher</th>\n",
       "      <th>User-ID</th>\n",
       "      <th>Book-Rating</th>\n",
       "      <th>Location</th>\n",
       "      <th>Age</th>\n",
       "      <th>City</th>\n",
       "      <th>Country</th>\n",
       "    </tr>\n",
       "  </thead>\n",
       "  <tbody>\n",
       "    <tr>\n",
       "      <th>81</th>\n",
       "      <td>01402.5448X</td>\n",
       "      <td>Unknown</td>\n",
       "      <td>Unknown</td>\n",
       "      <td>NaN</td>\n",
       "      <td>Unknown</td>\n",
       "      <td>11400.0</td>\n",
       "      <td>10.0</td>\n",
       "      <td>ottawa, ontario, canada</td>\n",
       "      <td>49</td>\n",
       "      <td>ottawa</td>\n",
       "      <td>canada</td>\n",
       "    </tr>\n",
       "    <tr>\n",
       "      <th>82</th>\n",
       "      <td>0224061089</td>\n",
       "      <td>Unknown</td>\n",
       "      <td>Unknown</td>\n",
       "      <td>NaN</td>\n",
       "      <td>Unknown</td>\n",
       "      <td>11400.0</td>\n",
       "      <td>7.0</td>\n",
       "      <td>ottawa, ontario, canada</td>\n",
       "      <td>49</td>\n",
       "      <td>ottawa</td>\n",
       "      <td>canada</td>\n",
       "    </tr>\n",
       "    <tr>\n",
       "      <th>83</th>\n",
       "      <td>0316666346</td>\n",
       "      <td>Unknown</td>\n",
       "      <td>Unknown</td>\n",
       "      <td>NaN</td>\n",
       "      <td>Unknown</td>\n",
       "      <td>11400.0</td>\n",
       "      <td>9.0</td>\n",
       "      <td>ottawa, ontario, canada</td>\n",
       "      <td>49</td>\n",
       "      <td>ottawa</td>\n",
       "      <td>canada</td>\n",
       "    </tr>\n",
       "    <tr>\n",
       "      <th>11230</th>\n",
       "      <td>3442437407</td>\n",
       "      <td>Unknown</td>\n",
       "      <td>Unknown</td>\n",
       "      <td>NaN</td>\n",
       "      <td>Unknown</td>\n",
       "      <td>11676.0</td>\n",
       "      <td>8.0</td>\n",
       "      <td>n/a, n/a, n/a</td>\n",
       "      <td>34</td>\n",
       "      <td>n/a</td>\n",
       "      <td>n/a</td>\n",
       "    </tr>\n",
       "    <tr>\n",
       "      <th>11231</th>\n",
       "      <td>8423314901</td>\n",
       "      <td>Unknown</td>\n",
       "      <td>Unknown</td>\n",
       "      <td>NaN</td>\n",
       "      <td>Unknown</td>\n",
       "      <td>11676.0</td>\n",
       "      <td>3.0</td>\n",
       "      <td>n/a, n/a, n/a</td>\n",
       "      <td>34</td>\n",
       "      <td>n/a</td>\n",
       "      <td>n/a</td>\n",
       "    </tr>\n",
       "    <tr>\n",
       "      <th>...</th>\n",
       "      <td>...</td>\n",
       "      <td>...</td>\n",
       "      <td>...</td>\n",
       "      <td>...</td>\n",
       "      <td>...</td>\n",
       "      <td>...</td>\n",
       "      <td>...</td>\n",
       "      <td>...</td>\n",
       "      <td>...</td>\n",
       "      <td>...</td>\n",
       "      <td>...</td>\n",
       "    </tr>\n",
       "    <tr>\n",
       "      <th>1149775</th>\n",
       "      <td>8886661975</td>\n",
       "      <td>Unknown</td>\n",
       "      <td>Unknown</td>\n",
       "      <td>NaN</td>\n",
       "      <td>Unknown</td>\n",
       "      <td>276448.0</td>\n",
       "      <td>10.0</td>\n",
       "      <td>torre del greco, campania, italy</td>\n",
       "      <td>34</td>\n",
       "      <td>torre del greco</td>\n",
       "      <td>italy</td>\n",
       "    </tr>\n",
       "    <tr>\n",
       "      <th>1149776</th>\n",
       "      <td>7222025634</td>\n",
       "      <td>Unknown</td>\n",
       "      <td>Unknown</td>\n",
       "      <td>NaN</td>\n",
       "      <td>Unknown</td>\n",
       "      <td>276638.0</td>\n",
       "      <td>10.0</td>\n",
       "      <td>shanghai, n/a, china</td>\n",
       "      <td>32</td>\n",
       "      <td>shanghai</td>\n",
       "      <td>china</td>\n",
       "    </tr>\n",
       "    <tr>\n",
       "      <th>1149777</th>\n",
       "      <td>0533233661</td>\n",
       "      <td>Unknown</td>\n",
       "      <td>Unknown</td>\n",
       "      <td>NaN</td>\n",
       "      <td>Unknown</td>\n",
       "      <td>276663.0</td>\n",
       "      <td>5.0</td>\n",
       "      <td>santiago de compostela, galicia, spain</td>\n",
       "      <td>20</td>\n",
       "      <td>santiago de compostela</td>\n",
       "      <td>spain</td>\n",
       "    </tr>\n",
       "    <tr>\n",
       "      <th>1149778</th>\n",
       "      <td>3423120754</td>\n",
       "      <td>Unknown</td>\n",
       "      <td>Unknown</td>\n",
       "      <td>NaN</td>\n",
       "      <td>Unknown</td>\n",
       "      <td>276668.0</td>\n",
       "      <td>8.0</td>\n",
       "      <td>mülheim an der ruhr, nordrhein-westfalen, germany</td>\n",
       "      <td>34</td>\n",
       "      <td>mülheim an der ruhr</td>\n",
       "      <td>germany</td>\n",
       "    </tr>\n",
       "    <tr>\n",
       "      <th>1149779</th>\n",
       "      <td>05162443314</td>\n",
       "      <td>Unknown</td>\n",
       "      <td>Unknown</td>\n",
       "      <td>NaN</td>\n",
       "      <td>Unknown</td>\n",
       "      <td>276723.0</td>\n",
       "      <td>8.0</td>\n",
       "      <td>san antonio, texas, usa</td>\n",
       "      <td>12</td>\n",
       "      <td>san antonio</td>\n",
       "      <td>usa</td>\n",
       "    </tr>\n",
       "  </tbody>\n",
       "</table>\n",
       "<p>49829 rows × 11 columns</p>\n",
       "</div>"
      ],
      "text/plain": [
       "                ISBN bookTitle bookAuthor  yearOfPublication publisher  \\\n",
       "81       01402.5448X   Unknown    Unknown                NaN   Unknown   \n",
       "82        0224061089   Unknown    Unknown                NaN   Unknown   \n",
       "83        0316666346   Unknown    Unknown                NaN   Unknown   \n",
       "11230     3442437407   Unknown    Unknown                NaN   Unknown   \n",
       "11231     8423314901   Unknown    Unknown                NaN   Unknown   \n",
       "...              ...       ...        ...                ...       ...   \n",
       "1149775   8886661975   Unknown    Unknown                NaN   Unknown   \n",
       "1149776   7222025634   Unknown    Unknown                NaN   Unknown   \n",
       "1149777   0533233661   Unknown    Unknown                NaN   Unknown   \n",
       "1149778   3423120754   Unknown    Unknown                NaN   Unknown   \n",
       "1149779  05162443314   Unknown    Unknown                NaN   Unknown   \n",
       "\n",
       "          User-ID  Book-Rating  \\\n",
       "81        11400.0         10.0   \n",
       "82        11400.0          7.0   \n",
       "83        11400.0          9.0   \n",
       "11230     11676.0          8.0   \n",
       "11231     11676.0          3.0   \n",
       "...           ...          ...   \n",
       "1149775  276448.0         10.0   \n",
       "1149776  276638.0         10.0   \n",
       "1149777  276663.0          5.0   \n",
       "1149778  276668.0          8.0   \n",
       "1149779  276723.0          8.0   \n",
       "\n",
       "                                                  Location  Age  \\\n",
       "81                                 ottawa, ontario, canada   49   \n",
       "82                                 ottawa, ontario, canada   49   \n",
       "83                                 ottawa, ontario, canada   49   \n",
       "11230                                        n/a, n/a, n/a   34   \n",
       "11231                                        n/a, n/a, n/a   34   \n",
       "...                                                    ...  ...   \n",
       "1149775                   torre del greco, campania, italy   34   \n",
       "1149776                               shanghai, n/a, china   32   \n",
       "1149777             santiago de compostela, galicia, spain   20   \n",
       "1149778  mülheim an der ruhr, nordrhein-westfalen, germany   34   \n",
       "1149779                            san antonio, texas, usa   12   \n",
       "\n",
       "                           City   Country  \n",
       "81                       ottawa    canada  \n",
       "82                       ottawa    canada  \n",
       "83                       ottawa    canada  \n",
       "11230                       n/a       n/a  \n",
       "11231                       n/a       n/a  \n",
       "...                         ...       ...  \n",
       "1149775         torre del greco     italy  \n",
       "1149776                shanghai     china  \n",
       "1149777  santiago de compostela     spain  \n",
       "1149778     mülheim an der ruhr   germany  \n",
       "1149779             san antonio       usa  \n",
       "\n",
       "[49829 rows x 11 columns]"
      ]
     },
     "execution_count": 32,
     "metadata": {},
     "output_type": "execute_result"
    }
   ],
   "source": [
    "# Create a dataframe for the missing values in 'yearOfPublication'\n",
    "\n",
    "ratings_explicit_nan = ratings_explicit[ratings_explicit['yearOfPublication'].isnull() == True]\n",
    "\n",
    "# Check output\n",
    "\n",
    "ratings_explicit_nan"
   ]
  },
  {
   "cell_type": "code",
   "execution_count": 33,
   "id": "8cdc999a",
   "metadata": {},
   "outputs": [
    {
     "name": "stdout",
     "output_type": "stream",
     "text": [
      "[1920.0, 1930.0, 1953.0, 1955.0, 1957.0, 1958.0, 1959.0, 1960.0, 1963.0, 1964.0, 1965.0, 1966.0, 1970.0, 1971.0, 1972.0, 1973.0, 1974.0, 1975.0, 1976.0, 1977.0, 1978.0, 1979.0, 1980.0, 1981.0, 1982.0, 1983.0, 1984.0, 1985.0, 1986.0, 1987.0, 1988.0, 1989.0, 1990.0, 1991.0, 1992.0, 1993.0, 1994.0, 1995.0, 1996.0, 1997.0, 1998.0, 1999.0, 2000.0, 2001.0, 2002.0, 2003.0, 2004.0, nan, 1376.0, 1378.0, 1806.0, 1900.0, 1901.0, 1902.0, 1904.0, 1906.0, 1908.0, 1911.0, 1923.0, 1924.0, 1925.0, 1926.0, 1927.0, 1928.0, 1929.0, 1931.0, 1932.0, 1933.0, 1934.0, 1935.0, 1936.0, 1937.0, 1938.0, 1939.0, 1940.0, 1941.0, 1942.0, 1943.0, 1944.0, 1945.0, 1946.0, 1947.0, 1948.0, 1949.0, 1950.0, 1951.0, 1952.0, 1954.0, 1956.0, 1961.0, 1962.0, 1967.0, 1968.0, 1969.0, 2005.0, 2006.0]\n"
     ]
    },
    {
     "name": "stderr",
     "output_type": "stream",
     "text": [
      "/var/folders/bx/5gbvgdk148552knvq9wj8vgm0000gn/T/ipykernel_21300/1185827426.py:3: SettingWithCopyWarning: \n",
      "A value is trying to be set on a copy of a slice from a DataFrame.\n",
      "Try using .loc[row_indexer,col_indexer] = value instead\n",
      "\n",
      "See the caveats in the documentation: https://pandas.pydata.org/pandas-docs/stable/user_guide/indexing.html#returning-a-view-versus-a-copy\n",
      "  ratings_explicit.yearOfPublication = pd.to_numeric(ratings_explicit.yearOfPublication, errors='coerce')\n"
     ]
    }
   ],
   "source": [
    "# Change 'yearOfPublication' with all values as integers\n",
    "\n",
    "ratings_explicit.yearOfPublication = pd.to_numeric(ratings_explicit.yearOfPublication, errors='coerce')\n",
    "\n",
    "print(sorted(ratings_explicit['yearOfPublication'].unique()))"
   ]
  },
  {
   "cell_type": "code",
   "execution_count": 34,
   "id": "9020fb2a",
   "metadata": {},
   "outputs": [
    {
     "name": "stderr",
     "output_type": "stream",
     "text": [
      "/var/folders/bx/5gbvgdk148552knvq9wj8vgm0000gn/T/ipykernel_21300/3372698793.py:3: SettingWithCopyWarning: \n",
      "A value is trying to be set on a copy of a slice from a DataFrame\n",
      "\n",
      "See the caveats in the documentation: https://pandas.pydata.org/pandas-docs/stable/user_guide/indexing.html#returning-a-view-versus-a-copy\n",
      "  ratings_explicit.yearOfPublication.fillna(round(ratings_explicit.yearOfPublication.mean()), inplace = True)\n"
     ]
    }
   ],
   "source": [
    "# Replacing NaNs with mean value of yearOfPublication\n",
    "\n",
    "ratings_explicit.yearOfPublication.fillna(round(ratings_explicit.yearOfPublication.mean()), inplace = True)"
   ]
  },
  {
   "cell_type": "code",
   "execution_count": 35,
   "id": "955da4ac",
   "metadata": {},
   "outputs": [
    {
     "data": {
      "text/plain": [
       "<bound method Series.info of 1          2001.0\n",
       "9          2002.0\n",
       "12         2004.0\n",
       "13         1999.0\n",
       "15         1998.0\n",
       "            ...  \n",
       "1149775    1996.0\n",
       "1149776    1996.0\n",
       "1149777    1996.0\n",
       "1149778    1996.0\n",
       "1149779    1996.0\n",
       "Name: yearOfPublication, Length: 433671, dtype: float64>"
      ]
     },
     "execution_count": 35,
     "metadata": {},
     "output_type": "execute_result"
    }
   ],
   "source": [
    "ratings_explicit['yearOfPublication'].info"
   ]
  },
  {
   "cell_type": "code",
   "execution_count": 36,
   "id": "a91a0de4",
   "metadata": {},
   "outputs": [
    {
     "data": {
      "text/plain": [
       "ISBN                 0\n",
       "bookTitle            0\n",
       "bookAuthor           0\n",
       "yearOfPublication    0\n",
       "publisher            0\n",
       "User-ID              0\n",
       "Book-Rating          0\n",
       "Location             0\n",
       "Age                  0\n",
       "City                 0\n",
       "Country              0\n",
       "dtype: int64"
      ]
     },
     "execution_count": 36,
     "metadata": {},
     "output_type": "execute_result"
    }
   ],
   "source": [
    "# Recheck for missing values in 'ratings_explicit'\n",
    "\n",
    "ratings_explicit.isnull().sum()"
   ]
  },
  {
   "cell_type": "markdown",
   "id": "dd2c982a",
   "metadata": {},
   "source": [
    "### 3. Exploring Relationships"
   ]
  },
  {
   "cell_type": "markdown",
   "id": "f8ffe770",
   "metadata": {},
   "source": [
    "Create a correlation matrix heatmap (colored).\n",
    "Discuss what the coefficients in the plot mean in terms of the relationships between the variables."
   ]
  },
  {
   "cell_type": "markdown",
   "id": "b146fb3d",
   "metadata": {},
   "source": [
    "#### Variables: Age, Book ratings and Year of Publication"
   ]
  },
  {
   "cell_type": "markdown",
   "id": "1ae5676a",
   "metadata": {},
   "source": [
    "To create a subplot, we can only use the numerical data available."
   ]
  },
  {
   "cell_type": "code",
   "execution_count": 37,
   "id": "a333e31f",
   "metadata": {},
   "outputs": [],
   "source": [
    "# Create a subset excluding the following columns\n",
    "# Columns =>'ISBN', 'bookTitle', 'bookAuthor', 'publisher', 'User-ID', 'Location', 'City', 'Country'\n",
    "\n",
    "sub = ratings_explicit[['Age', 'Book-Rating', 'yearOfPublication']]"
   ]
  },
  {
   "cell_type": "code",
   "execution_count": 38,
   "id": "b72542f0",
   "metadata": {},
   "outputs": [
    {
     "data": {
      "image/png": "[encoded data removed]",
      "text/plain": [
       "<Figure size 1000x1000 with 2 Axes>"
      ]
     },
     "metadata": {},
     "output_type": "display_data"
    }
   ],
   "source": [
    "# Create a subplot with matplotlib\n",
    "f,ax = plt.subplots(figsize=(10,10))\n",
    "\n",
    "# Create the correlation heatmap in seaborn by applying a heatmap onto the correlation matrix and the subplots defined above.\n",
    "corr = sns.heatmap(sub.corr(), annot = True, ax = ax) # The `annot` argument allows the plot to \n",
    "#place the correlation coefficients onto the heatmap."
   ]
  },
  {
   "cell_type": "markdown",
   "id": "39e9e74e",
   "metadata": {},
   "source": [
    "#### We have few numerical variables available in that data set. The heat map was created based on the following variables:\n",
    "* Book Rating\n",
    "* Year of Publication\n",
    "* Age\n",
    "\n",
    "#### What we tried to establish is if there is any type of correlation between:\n",
    "* The rating and the age of the reader\n",
    "* The rating and the year of publication\n",
    "* The age and the year of publication\n",
    "\n",
    "1. With \"Book-Rating\" & \"Age\": A 0.03 coefficient corrobates that ther is no correlation.\n",
    "\n",
    "2. With \"yearOfPublication\" & \"Book-Rating\": A -0.011 coefficient indicates a negative and very low relationship.\n",
    "\n",
    "3. With \"Age\" & \"yearOfPublication\": A 0.022 coefficient confirms also no relationship between the age of the reader and the year of publication."
   ]
  },
  {
   "cell_type": "markdown",
   "id": "df267065",
   "metadata": {},
   "source": [
    "### Scatterplots:"
   ]
  },
  {
   "cell_type": "markdown",
   "id": "03013db7",
   "metadata": {},
   "source": [
    "Create a scatterplot (or plots) for the variables with the strongest correlations and examine the nature of their relationships. Discuss the output in a markdown cell."
   ]
  },
  {
   "cell_type": "code",
   "execution_count": 39,
   "id": "56150fec",
   "metadata": {},
   "outputs": [
    {
     "data": {
      "text/plain": [
       "array([34, 49, 30, 36, 29, 60, 27, 71, 40, 53, 65, 46, 47, 26, 56, 37, 39,\n",
       "       25, 31, 41, 20, 58, 42, 38, 52, 21, 22, 33, 19, 57, 51, 35, 32, 62,\n",
       "       45, 74, 44, 43, 68, 54, 55, 24, 18, 59, 28, 70, 17, 48, 14, 50, 16,\n",
       "       61, 15, 66, 67, 23, 84, 82,  9, 72, 81, 64, 75, 69, 73, 63, 13, 77,\n",
       "        7, 76, 12, 90, 79, 80, 78, 83,  8, 11, 10,  5, 85, 86,  6, 89],\n",
       "      dtype=int32)"
      ]
     },
     "execution_count": 39,
     "metadata": {},
     "output_type": "execute_result"
    }
   ],
   "source": [
    "ratings_explicit['Age'].unique()"
   ]
  },
  {
   "cell_type": "code",
   "execution_count": 40,
   "id": "ccf4e8f0",
   "metadata": {},
   "outputs": [
    {
     "name": "stderr",
     "output_type": "stream",
     "text": [
      "/var/folders/bx/5gbvgdk148552knvq9wj8vgm0000gn/T/ipykernel_21300/742962825.py:5: SettingWithCopyWarning: \n",
      "A value is trying to be set on a copy of a slice from a DataFrame.\n",
      "Try using .loc[row_indexer,col_indexer] = value instead\n",
      "\n",
      "See the caveats in the documentation: https://pandas.pydata.org/pandas-docs/stable/user_guide/indexing.html#returning-a-view-versus-a-copy\n",
      "  ratings_explicit.loc[(ratings_explicit['Age'] >= 5) & (ratings_explicit['Age'] <= 18), 'Age Group'] = '5-18 years old'\n"
     ]
    }
   ],
   "source": [
    "#### Create age groups\n",
    "\n",
    "# Age group -> 5 to 18 years old\n",
    "\n",
    "ratings_explicit.loc[(ratings_explicit['Age'] >= 5) & (ratings_explicit['Age'] <= 18), 'Age Group'] = '5-18 years old'\n",
    "\n",
    "# Age group -> 19 to 35 years old\n",
    "\n",
    "ratings_explicit.loc[(ratings_explicit['Age'] >= 19) & (ratings_explicit['Age'] <= 35), 'Age Group'] = '19-35 years old'\n",
    "\n",
    "# Age group -> 36 to 55 years old\n",
    "\n",
    "ratings_explicit.loc[(ratings_explicit['Age'] >= 36) & (ratings_explicit['Age'] <= 55), 'Age Group'] = '36-55 years old'\n",
    "\n",
    "# Age group -> 56 to 74 years old\n",
    "\n",
    "ratings_explicit.loc[(ratings_explicit['Age'] >= 56) & (ratings_explicit['Age'] <= 74), 'Age Group'] = '56-74 years old'\n",
    "\n",
    "# Age group -> 75 to 90 years old\n",
    "\n",
    "ratings_explicit.loc[(ratings_explicit['Age'] >= 75) & (ratings_explicit['Age'] <= 90), 'Age Group'] = '75-90 years old'"
   ]
  },
  {
   "cell_type": "code",
   "execution_count": 41,
   "id": "fc96675c",
   "metadata": {},
   "outputs": [
    {
     "name": "stderr",
     "output_type": "stream",
     "text": [
      "/Users/ladyarmanoid/anaconda3/lib/python3.11/site-packages/seaborn/axisgrid.py:118: UserWarning: The figure layout has changed to tight\n",
      "  self._figure.tight_layout(*args, **kwargs)\n"
     ]
    },
    {
     "data": {
      "text/plain": [
       "<seaborn.axisgrid.FacetGrid at 0x17040d1d0>"
      ]
     },
     "execution_count": 41,
     "metadata": {},
     "output_type": "execute_result"
    },
    {
     "data": {
      "image/png": "[encoded data removed]",
      "text/plain": [
       "<Figure size 500x500 with 1 Axes>"
      ]
     },
     "metadata": {},
     "output_type": "display_data"
    }
   ],
   "source": [
    "# Create a scatterplot for the \"Age\" and \"Book-Rating\" columns in seaborn\n",
    "\n",
    "sns.lmplot(x = 'Age', y = 'Book-Rating', data = ratings_explicit)"
   ]
  },
  {
   "cell_type": "markdown",
   "id": "4acd2f5d",
   "metadata": {},
   "source": [
    "The scatterplot between the 'Age' and 'Book-Rating' variables is uneventful and does not showcase any relationships."
   ]
  },
  {
   "cell_type": "markdown",
   "id": "f537644a",
   "metadata": {},
   "source": [
    "### Pair Plots:"
   ]
  },
  {
   "cell_type": "markdown",
   "id": "e3bf84d9",
   "metadata": {},
   "source": [
    "Create a pair plot of the entire data set.\n",
    "Comment on the distribution of the variables and mark variables you’d like to explore further with an explanation of why."
   ]
  },
  {
   "cell_type": "code",
   "execution_count": 42,
   "id": "f2d1fd91",
   "metadata": {},
   "outputs": [],
   "source": [
    "# Keep only the variables you want to use in the pair plot\n",
    "\n",
    "sub_2 = sub[['Age', 'Book-Rating', 'yearOfPublication']]"
   ]
  },
  {
   "cell_type": "code",
   "execution_count": 43,
   "id": "9d3b156a",
   "metadata": {},
   "outputs": [
    {
     "name": "stderr",
     "output_type": "stream",
     "text": [
      "/Users/ladyarmanoid/anaconda3/lib/python3.11/site-packages/seaborn/_oldcore.py:1119: FutureWarning: use_inf_as_na option is deprecated and will be removed in a future version. Convert inf values to NaN before operating instead.\n",
      "  with pd.option_context('mode.use_inf_as_na', True):\n",
      "/Users/ladyarmanoid/anaconda3/lib/python3.11/site-packages/seaborn/_oldcore.py:1119: FutureWarning: use_inf_as_na option is deprecated and will be removed in a future version. Convert inf values to NaN before operating instead.\n",
      "  with pd.option_context('mode.use_inf_as_na', True):\n",
      "/Users/ladyarmanoid/anaconda3/lib/python3.11/site-packages/seaborn/_oldcore.py:1119: FutureWarning: use_inf_as_na option is deprecated and will be removed in a future version. Convert inf values to NaN before operating instead.\n",
      "  with pd.option_context('mode.use_inf_as_na', True):\n",
      "/Users/ladyarmanoid/anaconda3/lib/python3.11/site-packages/seaborn/axisgrid.py:118: UserWarning: The figure layout has changed to tight\n",
      "  self._figure.tight_layout(*args, **kwargs)\n"
     ]
    },
    {
     "data": {
      "image/png": "[encoded data removed]",
      "text/plain": [
       "<Figure size 750x750 with 12 Axes>"
      ]
     },
     "metadata": {},
     "output_type": "display_data"
    }
   ],
   "source": [
    "# Create a pair plot \n",
    "\n",
    "g = sns.pairplot(sub_2)"
   ]
  },
  {
   "cell_type": "markdown",
   "id": "09a1d3e5",
   "metadata": {},
   "source": [
    "#### The pair plots are showcasing the story of the data:\n",
    "* We can see that the majority of the books published happened in the 20th and 21st century,\n",
    "with only a few havimng been published earlier\n",
    "* The book ratings follow the same trend"
   ]
  },
  {
   "cell_type": "markdown",
   "id": "f3cb1983",
   "metadata": {},
   "source": [
    "### Categorical Plots:"
   ]
  },
  {
   "cell_type": "markdown",
   "id": "13b04aca",
   "metadata": {},
   "source": [
    "Create a categorical plot and interpret the results."
   ]
  },
  {
   "cell_type": "code",
   "execution_count": 44,
   "id": "fba75d3f",
   "metadata": {},
   "outputs": [
    {
     "name": "stdout",
     "output_type": "stream",
     "text": [
      "(433671, 12)\n",
      "(716109, 11)\n"
     ]
    },
    {
     "name": "stderr",
     "output_type": "stream",
     "text": [
      "/var/folders/bx/5gbvgdk148552knvq9wj8vgm0000gn/T/ipykernel_21300/1937208111.py:10: UserWarning: Ignoring `palette` because no `hue` variable has been assigned.\n",
      "  sns.histplot(data = ratings_explicit,  x = 'Book-Rating', bins = 20, kde = True,  palette = 'rocket_r')\n",
      "/Users/ladyarmanoid/anaconda3/lib/python3.11/site-packages/seaborn/_oldcore.py:1119: FutureWarning: use_inf_as_na option is deprecated and will be removed in a future version. Convert inf values to NaN before operating instead.\n",
      "  with pd.option_context('mode.use_inf_as_na', True):\n"
     ]
    },
    {
     "data": {
      "image/png": "[encoded data removed]",
      "text/plain": [
       "<Figure size 1200x800 with 1 Axes>"
      ]
     },
     "metadata": {},
     "output_type": "display_data"
    }
   ],
   "source": [
    "# Use a histogram to visualize the distribution of the variables. \n",
    "# This way, you can determine sensible categories for the price ranges. \n",
    "# You don't want to end up with too few observations in any one of the categories.\n",
    "# The argument \"kde\" add a line that encompasses the distribution.\n",
    "\n",
    "print(ratings_explicit.shape)\n",
    "print(ratings_implicit.shape)\n",
    "plt.style.use('fivethirtyeight')\n",
    "plt.figure(figsize = (12, 8))\n",
    "sns.histplot(data = ratings_explicit,  x = 'Book-Rating', bins = 20, kde = True,  palette = 'rocket_r')\n",
    "plt.tight_layout()\n",
    "plt.savefig(os.path.join(path, '04 Analysis', 'Visualizations', 'book_ratings_er.png'))"
   ]
  },
  {
   "cell_type": "markdown",
   "id": "03decba8",
   "metadata": {},
   "source": [
    "#### The book ratings system in place vary and the most common one is the 5 stars rating system\n",
    "\n",
    "1 STAR * => no place on a bookshelf\n",
    "2 STARS ** => wasn't good but wasn't completely bad\n",
    "3 STARS *** =>  neutral\n",
    "4 STARS **** => enjoyed, from beginning to end\n",
    "5 STARS ***** => creme de la creme of your bookshelf\n",
    "\n",
    "#### We can categorise the 1-10 scale as following:\n",
    "\n",
    "1 - Bad\n",
    "2 - Not very good\n",
    "3 - Slightly neutral\n",
    "4 - Neutral\n",
    "5 - Solid\n",
    "6 - Notable\n",
    "7 - Good\n",
    "8 - Very good\n",
    "9 - Superb\n",
    "10 - Brilliant"
   ]
  },
  {
   "cell_type": "markdown",
   "id": "ceddb62a",
   "metadata": {},
   "source": [
    "### Creating categories for the ratings 1-10\n",
    "\n",
    "For the purpose of this analysis, we are categorizing the ratings as following:\n",
    "\n",
    "1 to 2 - Bad category\n",
    "3 to 4 - Neutral category\n",
    "5 to 6 - Middle category\n",
    "7 to 8 - Good category\n",
    "9 to 10 - Outstanding category"
   ]
  },
  {
   "cell_type": "markdown",
   "id": "cc0b3be4",
   "metadata": {},
   "source": [
    "### Create a new 'Rating category' column"
   ]
  },
  {
   "cell_type": "code",
   "execution_count": 45,
   "id": "419236fc",
   "metadata": {},
   "outputs": [
    {
     "data": {
      "text/plain": [
       "Index(['ISBN', 'bookTitle', 'bookAuthor', 'yearOfPublication', 'publisher',\n",
       "       'User-ID', 'Book-Rating', 'Location', 'Age', 'City', 'Country',\n",
       "       'Age Group'],\n",
       "      dtype='object')"
      ]
     },
     "execution_count": 45,
     "metadata": {},
     "output_type": "execute_result"
    }
   ],
   "source": [
    "ratings_explicit.columns"
   ]
  },
  {
   "cell_type": "code",
   "execution_count": 46,
   "id": "5465514f",
   "metadata": {},
   "outputs": [
    {
     "data": {
      "text/html": [
       "<div>\n",
       "<style scoped>\n",
       "    .dataframe tbody tr th:only-of-type {\n",
       "        vertical-align: middle;\n",
       "    }\n",
       "\n",
       "    .dataframe tbody tr th {\n",
       "        vertical-align: top;\n",
       "    }\n",
       "\n",
       "    .dataframe thead th {\n",
       "        text-align: right;\n",
       "    }\n",
       "</style>\n",
       "<table border=\"1\" class=\"dataframe\">\n",
       "  <thead>\n",
       "    <tr style=\"text-align: right;\">\n",
       "      <th></th>\n",
       "      <th>ISBN</th>\n",
       "      <th>bookTitle</th>\n",
       "      <th>bookAuthor</th>\n",
       "      <th>yearOfPublication</th>\n",
       "      <th>publisher</th>\n",
       "      <th>User-ID</th>\n",
       "      <th>Book-Rating</th>\n",
       "      <th>Location</th>\n",
       "      <th>Age</th>\n",
       "      <th>City</th>\n",
       "      <th>Country</th>\n",
       "      <th>Age Group</th>\n",
       "    </tr>\n",
       "  </thead>\n",
       "  <tbody>\n",
       "    <tr>\n",
       "      <th>1</th>\n",
       "      <td>0002005018</td>\n",
       "      <td>Clara Callan</td>\n",
       "      <td>Richard Bruce Wright</td>\n",
       "      <td>2001.0</td>\n",
       "      <td>HarperFlamingo Canada</td>\n",
       "      <td>8.0</td>\n",
       "      <td>5.0</td>\n",
       "      <td>timmins, ontario, canada</td>\n",
       "      <td>34</td>\n",
       "      <td>timmins</td>\n",
       "      <td>canada</td>\n",
       "      <td>19-35 years old</td>\n",
       "    </tr>\n",
       "    <tr>\n",
       "      <th>9</th>\n",
       "      <td>074322678X</td>\n",
       "      <td>Where You'll Find Me: And Other Stories</td>\n",
       "      <td>Ann Beattie</td>\n",
       "      <td>2002.0</td>\n",
       "      <td>Scribner</td>\n",
       "      <td>8.0</td>\n",
       "      <td>5.0</td>\n",
       "      <td>timmins, ontario, canada</td>\n",
       "      <td>34</td>\n",
       "      <td>timmins</td>\n",
       "      <td>canada</td>\n",
       "      <td>19-35 years old</td>\n",
       "    </tr>\n",
       "    <tr>\n",
       "      <th>12</th>\n",
       "      <td>0887841740</td>\n",
       "      <td>The Middle Stories</td>\n",
       "      <td>Sheila Heti</td>\n",
       "      <td>2004.0</td>\n",
       "      <td>House of Anansi Press</td>\n",
       "      <td>8.0</td>\n",
       "      <td>5.0</td>\n",
       "      <td>timmins, ontario, canada</td>\n",
       "      <td>34</td>\n",
       "      <td>timmins</td>\n",
       "      <td>canada</td>\n",
       "      <td>19-35 years old</td>\n",
       "    </tr>\n",
       "    <tr>\n",
       "      <th>13</th>\n",
       "      <td>1552041778</td>\n",
       "      <td>Jane Doe</td>\n",
       "      <td>R. J. Kaiser</td>\n",
       "      <td>1999.0</td>\n",
       "      <td>Mira Books</td>\n",
       "      <td>8.0</td>\n",
       "      <td>5.0</td>\n",
       "      <td>timmins, ontario, canada</td>\n",
       "      <td>34</td>\n",
       "      <td>timmins</td>\n",
       "      <td>canada</td>\n",
       "      <td>19-35 years old</td>\n",
       "    </tr>\n",
       "    <tr>\n",
       "      <th>15</th>\n",
       "      <td>1567407781</td>\n",
       "      <td>The Witchfinder (Amos Walker Mystery Series)</td>\n",
       "      <td>Loren D. Estleman</td>\n",
       "      <td>1998.0</td>\n",
       "      <td>Brilliance Audio - Trade</td>\n",
       "      <td>8.0</td>\n",
       "      <td>6.0</td>\n",
       "      <td>timmins, ontario, canada</td>\n",
       "      <td>34</td>\n",
       "      <td>timmins</td>\n",
       "      <td>canada</td>\n",
       "      <td>19-35 years old</td>\n",
       "    </tr>\n",
       "  </tbody>\n",
       "</table>\n",
       "</div>"
      ],
      "text/plain": [
       "          ISBN                                     bookTitle  \\\n",
       "1   0002005018                                  Clara Callan   \n",
       "9   074322678X       Where You'll Find Me: And Other Stories   \n",
       "12  0887841740                            The Middle Stories   \n",
       "13  1552041778                                      Jane Doe   \n",
       "15  1567407781  The Witchfinder (Amos Walker Mystery Series)   \n",
       "\n",
       "              bookAuthor  yearOfPublication                 publisher  \\\n",
       "1   Richard Bruce Wright             2001.0     HarperFlamingo Canada   \n",
       "9            Ann Beattie             2002.0                  Scribner   \n",
       "12           Sheila Heti             2004.0     House of Anansi Press   \n",
       "13          R. J. Kaiser             1999.0                Mira Books   \n",
       "15     Loren D. Estleman             1998.0  Brilliance Audio - Trade   \n",
       "\n",
       "    User-ID  Book-Rating                  Location  Age     City  Country  \\\n",
       "1       8.0          5.0  timmins, ontario, canada   34  timmins   canada   \n",
       "9       8.0          5.0  timmins, ontario, canada   34  timmins   canada   \n",
       "12      8.0          5.0  timmins, ontario, canada   34  timmins   canada   \n",
       "13      8.0          5.0  timmins, ontario, canada   34  timmins   canada   \n",
       "15      8.0          6.0  timmins, ontario, canada   34  timmins   canada   \n",
       "\n",
       "          Age Group  \n",
       "1   19-35 years old  \n",
       "9   19-35 years old  \n",
       "12  19-35 years old  \n",
       "13  19-35 years old  \n",
       "15  19-35 years old  "
      ]
     },
     "execution_count": 46,
     "metadata": {},
     "output_type": "execute_result"
    }
   ],
   "source": [
    "ratings_explicit.head()"
   ]
  },
  {
   "cell_type": "code",
   "execution_count": 47,
   "id": "788f819e",
   "metadata": {},
   "outputs": [
    {
     "name": "stderr",
     "output_type": "stream",
     "text": [
      "/var/folders/bx/5gbvgdk148552knvq9wj8vgm0000gn/T/ipykernel_21300/624107651.py:5: SettingWithCopyWarning: \n",
      "A value is trying to be set on a copy of a slice from a DataFrame.\n",
      "Try using .loc[row_indexer,col_indexer] = value instead\n",
      "\n",
      "See the caveats in the documentation: https://pandas.pydata.org/pandas-docs/stable/user_guide/indexing.html#returning-a-view-versus-a-copy\n",
      "  ratings_explicit.loc[(ratings_explicit['Book-Rating'] >= 1) & (ratings_explicit['Book-Rating'] <= 2), 'Rating category'] = 'Bad category'\n"
     ]
    }
   ],
   "source": [
    "#### Create Ratings Groups\n",
    "\n",
    "# Bad Category\n",
    "\n",
    "ratings_explicit.loc[(ratings_explicit['Book-Rating'] >= 1) & (ratings_explicit['Book-Rating'] <= 2), 'Rating category'] = 'Bad category'\n",
    "\n",
    "# Neutral category\n",
    "\n",
    "ratings_explicit.loc[(ratings_explicit['Book-Rating'] >= 3) & (ratings_explicit['Book-Rating'] <= 4), 'Rating category'] = 'Neutral category'\n",
    "\n",
    "# Middle category\n",
    "\n",
    "ratings_explicit.loc[(ratings_explicit['Book-Rating'] >= 5) & (ratings_explicit['Book-Rating'] <= 6), 'Rating category'] = 'Middle category'\n",
    "\n",
    "# Good category\n",
    "\n",
    "ratings_explicit.loc[(ratings_explicit['Book-Rating'] >= 7) & (ratings_explicit['Book-Rating'] <= 8), 'Rating category'] = 'Good category'\n",
    "\n",
    "# Oustanding category\n",
    "\n",
    "ratings_explicit.loc[ratings_explicit['Book-Rating'] >= 9, 'Rating category'] = 'Outstanding category'"
   ]
  },
  {
   "cell_type": "code",
   "execution_count": 48,
   "id": "5e4157e6",
   "metadata": {},
   "outputs": [
    {
     "data": {
      "text/plain": [
       "Rating category\n",
       "Good category           180193\n",
       "Outstanding category    146151\n",
       "Middle category          87898\n",
       "Neutral category         14900\n",
       "Bad category              4529\n",
       "Name: count, dtype: int64"
      ]
     },
     "execution_count": 48,
     "metadata": {},
     "output_type": "execute_result"
    }
   ],
   "source": [
    "ratings_explicit['Rating category'].value_counts(dropna = False)"
   ]
  },
  {
   "cell_type": "code",
   "execution_count": 49,
   "id": "44cd8a09",
   "metadata": {},
   "outputs": [
    {
     "data": {
      "text/plain": [
       "Index(['ISBN', 'bookTitle', 'bookAuthor', 'yearOfPublication', 'publisher',\n",
       "       'User-ID', 'Book-Rating', 'Location', 'Age', 'City', 'Country',\n",
       "       'Age Group', 'Rating category'],\n",
       "      dtype='object')"
      ]
     },
     "execution_count": 49,
     "metadata": {},
     "output_type": "execute_result"
    }
   ],
   "source": [
    "ratings_explicit.columns"
   ]
  },
  {
   "cell_type": "code",
   "execution_count": 50,
   "id": "fc815e74",
   "metadata": {},
   "outputs": [
    {
     "name": "stderr",
     "output_type": "stream",
     "text": [
      "/Users/ladyarmanoid/anaconda3/lib/python3.11/site-packages/seaborn/_oldcore.py:1119: FutureWarning: use_inf_as_na option is deprecated and will be removed in a future version. Convert inf values to NaN before operating instead.\n",
      "  with pd.option_context('mode.use_inf_as_na', True):\n",
      "/Users/ladyarmanoid/anaconda3/lib/python3.11/site-packages/seaborn/_oldcore.py:1119: FutureWarning: use_inf_as_na option is deprecated and will be removed in a future version. Convert inf values to NaN before operating instead.\n",
      "  with pd.option_context('mode.use_inf_as_na', True):\n",
      "/Users/ladyarmanoid/anaconda3/lib/python3.11/site-packages/seaborn/axisgrid.py:118: UserWarning: Creating legend with loc=\"best\" can be slow with large amounts of data.\n",
      "  self._figure.tight_layout(*args, **kwargs)\n",
      "/Users/ladyarmanoid/anaconda3/lib/python3.11/site-packages/seaborn/axisgrid.py:118: UserWarning: The figure layout has changed to tight\n",
      "  self._figure.tight_layout(*args, **kwargs)\n"
     ]
    },
    {
     "data": {
      "image/png": "[encoded data removed]",
      "text/plain": [
       "<Figure size 700.125x500 with 1 Axes>"
      ]
     },
     "metadata": {},
     "output_type": "display_data"
    }
   ],
   "source": [
    "# Create a categorical plot in seaborn using the rating categories created above\n",
    "\n",
    "sns.set(style = \"ticks\")\n",
    "g = sns.catplot(x = \"Book-Rating\", y = \"Age Group\", hue = \"Rating category\", data = ratings_explicit)\n",
    "\n",
    "# fig = g.get_figure()\n",
    "\n",
    "g.savefig(os.path.join(path, '04 Analysis', 'Visualizations', 'category_rating_age_group_plot.png'))"
   ]
  },
  {
   "cell_type": "markdown",
   "id": "13f163bc",
   "metadata": {},
   "source": [
    "### Renaming Countries:"
   ]
  },
  {
   "cell_type": "code",
   "execution_count": 51,
   "id": "498ddf25",
   "metadata": {},
   "outputs": [
    {
     "name": "stdout",
     "output_type": "stream",
     "text": [
      "['', ' &#20013;&#22269;', ' \\\\\"n/a\\\\\"\"', ' \\\\n/a\\\\\"\"', ' afghanistan', ' alachua', ' albania', ' alderney', ' algeria', ' america', ' andorra', ' angola', ' antarctica', ' antigua and barbuda', ' argentina', ' aroostook', ' aruba', ' australia', ' austria', ' austria\"', ' autralia', ' az', ' azerbaijan', ' bahamas', ' bahrain', ' bangladesh', ' barbados', ' basilicata', ' belgium', ' belize', ' benin', ' berguedà', ' bermuda', ' bolivia', ' bosnia and herzegovina', ' brasil', ' brazil', ' brazil\"', ' brunei', ' bulgaria', ' burma', ' c', ' c.a.', ' calabria', ' cambodia', ' camden', ' cameroon', ' canada', ' cananda', ' cape verde', ' caribbean sea', ' catalonia', ' catalunya', ' catalunya spain', ' cayman islands', ' channel islands', ' cherokee', ' chile', ' china', ' colombia', ' costa rica', ' costa rica\"', ' croatia', ' croatia\"', ' csa', ' cuba', ' cyprus', ' czech republic', ' denmark', ' denmark\"', ' deutschland', ' disgruntled states of america', ' dominican republic', ' ecuador', ' egypt', ' el salvador', ' england', ' espanha / galiza', ' espaã±a', ' españa', ' españa\"', ' estonia', ' europe', ' euskal herria', ' everywhere and anywhere', ' far away...', ' ferrara', ' fiji', ' finland', ' finland\"', ' fort bend', ' framingham', ' france', ' france\"', ' gabon', ' galiza', ' geermany', ' germany', ' germany\"', ' ghana', ' greece', ' greece\"', ' grenada', ' guam', ' guatemala', ' guernsey', ' guinea', ' guinea-bissau', ' here and there', ' honduras', ' hong kong', ' hungary', ' hungary\"', ' iceland', ' india', ' india\"', ' indonesia', ' iran', ' iran\"', ' ireland', ' ireland\"', ' israel', ' israel\"', ' italia', ' italy', ' italy\"', ' jamaica', ' japan', ' jersey', ' jordan', ' k1c7b1', ' kazakhstan', ' kenya', ' kern', ' kosovo', ' kuwait', ' l`italia', ' la belgique', ' la chine éternelle!', ' la france', ' la suisse', ' laos', ' latvia', ' lazio', ' lebanon', ' libya', ' lithuania', ' lkjlj', ' lleida', ' lombardia', ' los estados unidos de norte america', ' luxembourg', ' luxembourg\"', ' macau', ' macedonia', ' madagascar', ' malaysia', ' malta', ' maracopa', ' maricopa', ' mauritius', ' mexico', ' mexico\"', ' moldova', ' monaco', ' mongolia', ' morgan', ' morocco', ' mozambique', ' n/a', ' n/a - on the road', ' nederlands', ' nepal', ' netherlands', ' netherlands antilles', ' netherlands\"', ' new zealand', ' new zealand\"', ' nicaragua', ' niger', ' nigeria', ' norway', ' norway\"', ' nz', ' ohio', ' oman', ' orange co', ' orense', ' p.r.china', ' pakistan', ' palau', ' panama', ' papua new guinea', ' paraguay', ' pender', ' peru', ' petrolwar nation', ' philippines', ' philippines\"', ' phillipines', ' poland', ' polk', ' portugal', ' portugal\"', ' puerto rico', ' qatar', ' quit', ' republic of panama', ' richmond country', ' romania', ' russia', ' rutherford', ' saint loius', ' saint lucia', ' samoa', ' san marino', ' saudi arabia', ' scotland', ' shelby', ' singapore', ' slovakia', ' slovenia', ' slovenia\"', ' south africa', ' south korea', ' space', ' spain', ' spain\"', ' sri lanka', ' sri lanka\"', ' st. helena', ' st.thomasi', ' sweden', ' sweden\"', ' switzerland', ' switzerland\"', ' syria', ' taiwan', ' tajikistan', ' tanzania', ' tdzimi', ' thailand', ' the netherlands', ' the world tomorrow', ' tobago', ' tonga', ' trinidad and tobago', ' tunisia', ' turkey', ' turkey\"', ' turkmenistan', ' u.a.e', ' u.k.', ' u.s. of a.', ' u.s. virgin islands', ' u.s.a.', ' u.s.a>', ' u.s>', ' ua', ' uganda', ' ukraine', ' united arab emirates', ' united kindgonm', ' united kingdom', ' united kingdom\"', ' united sates', ' united staes', ' united state', ' united states', ' united states of america', ' universe', ' unknown', ' urugua', ' uruguay', ' us', ' usa', ' usa & canada', ' usa (currently living in england)', ' uzbekistan', ' van wert', ' venezuela', ' vietnam', ' wales', ' worcester', ' x', ' yemen', ' ysa', ' yugoslavia', ' zambia', ' zimbabwe', '\"']\n"
     ]
    }
   ],
   "source": [
    "print(sorted(ratings_explicit['Country'].unique())) # We are getting 291 distinct names for the countries"
   ]
  },
  {
   "cell_type": "code",
   "execution_count": 52,
   "id": "2c5f33de",
   "metadata": {},
   "outputs": [
    {
     "name": "stderr",
     "output_type": "stream",
     "text": [
      "/var/folders/bx/5gbvgdk148552knvq9wj8vgm0000gn/T/ipykernel_21300/126364596.py:83: SettingWithCopyWarning: \n",
      "A value is trying to be set on a copy of a slice from a DataFrame.\n",
      "Try using .loc[row_indexer,col_indexer] = value instead\n",
      "\n",
      "See the caveats in the documentation: https://pandas.pydata.org/pandas-docs/stable/user_guide/indexing.html#returning-a-view-versus-a-copy\n",
      "  ratings_explicit['Country'] = ratings_explicit['Country'].apply(correct_country_name)\n"
     ]
    },
    {
     "data": {
      "text/html": [
       "<div>\n",
       "<style scoped>\n",
       "    .dataframe tbody tr th:only-of-type {\n",
       "        vertical-align: middle;\n",
       "    }\n",
       "\n",
       "    .dataframe tbody tr th {\n",
       "        vertical-align: top;\n",
       "    }\n",
       "\n",
       "    .dataframe thead th {\n",
       "        text-align: right;\n",
       "    }\n",
       "</style>\n",
       "<table border=\"1\" class=\"dataframe\">\n",
       "  <thead>\n",
       "    <tr style=\"text-align: right;\">\n",
       "      <th></th>\n",
       "      <th>ISBN</th>\n",
       "      <th>bookTitle</th>\n",
       "      <th>bookAuthor</th>\n",
       "      <th>yearOfPublication</th>\n",
       "      <th>publisher</th>\n",
       "      <th>User-ID</th>\n",
       "      <th>Book-Rating</th>\n",
       "      <th>Location</th>\n",
       "      <th>Age</th>\n",
       "      <th>City</th>\n",
       "      <th>Country</th>\n",
       "      <th>Age Group</th>\n",
       "      <th>Rating category</th>\n",
       "    </tr>\n",
       "  </thead>\n",
       "  <tbody>\n",
       "    <tr>\n",
       "      <th>1</th>\n",
       "      <td>0002005018</td>\n",
       "      <td>Clara Callan</td>\n",
       "      <td>Richard Bruce Wright</td>\n",
       "      <td>2001.0</td>\n",
       "      <td>HarperFlamingo Canada</td>\n",
       "      <td>8.0</td>\n",
       "      <td>5.0</td>\n",
       "      <td>timmins, ontario, canada</td>\n",
       "      <td>34</td>\n",
       "      <td>timmins</td>\n",
       "      <td>Canada</td>\n",
       "      <td>19-35 years old</td>\n",
       "      <td>Middle category</td>\n",
       "    </tr>\n",
       "    <tr>\n",
       "      <th>9</th>\n",
       "      <td>074322678X</td>\n",
       "      <td>Where You'll Find Me: And Other Stories</td>\n",
       "      <td>Ann Beattie</td>\n",
       "      <td>2002.0</td>\n",
       "      <td>Scribner</td>\n",
       "      <td>8.0</td>\n",
       "      <td>5.0</td>\n",
       "      <td>timmins, ontario, canada</td>\n",
       "      <td>34</td>\n",
       "      <td>timmins</td>\n",
       "      <td>Canada</td>\n",
       "      <td>19-35 years old</td>\n",
       "      <td>Middle category</td>\n",
       "    </tr>\n",
       "    <tr>\n",
       "      <th>12</th>\n",
       "      <td>0887841740</td>\n",
       "      <td>The Middle Stories</td>\n",
       "      <td>Sheila Heti</td>\n",
       "      <td>2004.0</td>\n",
       "      <td>House of Anansi Press</td>\n",
       "      <td>8.0</td>\n",
       "      <td>5.0</td>\n",
       "      <td>timmins, ontario, canada</td>\n",
       "      <td>34</td>\n",
       "      <td>timmins</td>\n",
       "      <td>Canada</td>\n",
       "      <td>19-35 years old</td>\n",
       "      <td>Middle category</td>\n",
       "    </tr>\n",
       "    <tr>\n",
       "      <th>13</th>\n",
       "      <td>1552041778</td>\n",
       "      <td>Jane Doe</td>\n",
       "      <td>R. J. Kaiser</td>\n",
       "      <td>1999.0</td>\n",
       "      <td>Mira Books</td>\n",
       "      <td>8.0</td>\n",
       "      <td>5.0</td>\n",
       "      <td>timmins, ontario, canada</td>\n",
       "      <td>34</td>\n",
       "      <td>timmins</td>\n",
       "      <td>Canada</td>\n",
       "      <td>19-35 years old</td>\n",
       "      <td>Middle category</td>\n",
       "    </tr>\n",
       "    <tr>\n",
       "      <th>15</th>\n",
       "      <td>1567407781</td>\n",
       "      <td>The Witchfinder (Amos Walker Mystery Series)</td>\n",
       "      <td>Loren D. Estleman</td>\n",
       "      <td>1998.0</td>\n",
       "      <td>Brilliance Audio - Trade</td>\n",
       "      <td>8.0</td>\n",
       "      <td>6.0</td>\n",
       "      <td>timmins, ontario, canada</td>\n",
       "      <td>34</td>\n",
       "      <td>timmins</td>\n",
       "      <td>Canada</td>\n",
       "      <td>19-35 years old</td>\n",
       "      <td>Middle category</td>\n",
       "    </tr>\n",
       "    <tr>\n",
       "      <th>...</th>\n",
       "      <td>...</td>\n",
       "      <td>...</td>\n",
       "      <td>...</td>\n",
       "      <td>...</td>\n",
       "      <td>...</td>\n",
       "      <td>...</td>\n",
       "      <td>...</td>\n",
       "      <td>...</td>\n",
       "      <td>...</td>\n",
       "      <td>...</td>\n",
       "      <td>...</td>\n",
       "      <td>...</td>\n",
       "      <td>...</td>\n",
       "    </tr>\n",
       "    <tr>\n",
       "      <th>1149775</th>\n",
       "      <td>8886661975</td>\n",
       "      <td>Unknown</td>\n",
       "      <td>Unknown</td>\n",
       "      <td>1996.0</td>\n",
       "      <td>Unknown</td>\n",
       "      <td>276448.0</td>\n",
       "      <td>10.0</td>\n",
       "      <td>torre del greco, campania, italy</td>\n",
       "      <td>34</td>\n",
       "      <td>torre del greco</td>\n",
       "      <td>Italy</td>\n",
       "      <td>19-35 years old</td>\n",
       "      <td>Outstanding category</td>\n",
       "    </tr>\n",
       "    <tr>\n",
       "      <th>1149776</th>\n",
       "      <td>7222025634</td>\n",
       "      <td>Unknown</td>\n",
       "      <td>Unknown</td>\n",
       "      <td>1996.0</td>\n",
       "      <td>Unknown</td>\n",
       "      <td>276638.0</td>\n",
       "      <td>10.0</td>\n",
       "      <td>shanghai, n/a, china</td>\n",
       "      <td>32</td>\n",
       "      <td>shanghai</td>\n",
       "      <td>China</td>\n",
       "      <td>19-35 years old</td>\n",
       "      <td>Outstanding category</td>\n",
       "    </tr>\n",
       "    <tr>\n",
       "      <th>1149777</th>\n",
       "      <td>0533233661</td>\n",
       "      <td>Unknown</td>\n",
       "      <td>Unknown</td>\n",
       "      <td>1996.0</td>\n",
       "      <td>Unknown</td>\n",
       "      <td>276663.0</td>\n",
       "      <td>5.0</td>\n",
       "      <td>santiago de compostela, galicia, spain</td>\n",
       "      <td>20</td>\n",
       "      <td>santiago de compostela</td>\n",
       "      <td>Spain</td>\n",
       "      <td>19-35 years old</td>\n",
       "      <td>Middle category</td>\n",
       "    </tr>\n",
       "    <tr>\n",
       "      <th>1149778</th>\n",
       "      <td>3423120754</td>\n",
       "      <td>Unknown</td>\n",
       "      <td>Unknown</td>\n",
       "      <td>1996.0</td>\n",
       "      <td>Unknown</td>\n",
       "      <td>276668.0</td>\n",
       "      <td>8.0</td>\n",
       "      <td>mülheim an der ruhr, nordrhein-westfalen, germany</td>\n",
       "      <td>34</td>\n",
       "      <td>mülheim an der ruhr</td>\n",
       "      <td>Germany</td>\n",
       "      <td>19-35 years old</td>\n",
       "      <td>Good category</td>\n",
       "    </tr>\n",
       "    <tr>\n",
       "      <th>1149779</th>\n",
       "      <td>05162443314</td>\n",
       "      <td>Unknown</td>\n",
       "      <td>Unknown</td>\n",
       "      <td>1996.0</td>\n",
       "      <td>Unknown</td>\n",
       "      <td>276723.0</td>\n",
       "      <td>8.0</td>\n",
       "      <td>san antonio, texas, usa</td>\n",
       "      <td>12</td>\n",
       "      <td>san antonio</td>\n",
       "      <td>United States</td>\n",
       "      <td>5-18 years old</td>\n",
       "      <td>Good category</td>\n",
       "    </tr>\n",
       "  </tbody>\n",
       "</table>\n",
       "<p>433671 rows × 13 columns</p>\n",
       "</div>"
      ],
      "text/plain": [
       "                ISBN                                     bookTitle  \\\n",
       "1         0002005018                                  Clara Callan   \n",
       "9         074322678X       Where You'll Find Me: And Other Stories   \n",
       "12        0887841740                            The Middle Stories   \n",
       "13        1552041778                                      Jane Doe   \n",
       "15        1567407781  The Witchfinder (Amos Walker Mystery Series)   \n",
       "...              ...                                           ...   \n",
       "1149775   8886661975                                       Unknown   \n",
       "1149776   7222025634                                       Unknown   \n",
       "1149777   0533233661                                       Unknown   \n",
       "1149778   3423120754                                       Unknown   \n",
       "1149779  05162443314                                       Unknown   \n",
       "\n",
       "                   bookAuthor  yearOfPublication                 publisher  \\\n",
       "1        Richard Bruce Wright             2001.0     HarperFlamingo Canada   \n",
       "9                 Ann Beattie             2002.0                  Scribner   \n",
       "12                Sheila Heti             2004.0     House of Anansi Press   \n",
       "13               R. J. Kaiser             1999.0                Mira Books   \n",
       "15          Loren D. Estleman             1998.0  Brilliance Audio - Trade   \n",
       "...                       ...                ...                       ...   \n",
       "1149775               Unknown             1996.0                   Unknown   \n",
       "1149776               Unknown             1996.0                   Unknown   \n",
       "1149777               Unknown             1996.0                   Unknown   \n",
       "1149778               Unknown             1996.0                   Unknown   \n",
       "1149779               Unknown             1996.0                   Unknown   \n",
       "\n",
       "          User-ID  Book-Rating  \\\n",
       "1             8.0          5.0   \n",
       "9             8.0          5.0   \n",
       "12            8.0          5.0   \n",
       "13            8.0          5.0   \n",
       "15            8.0          6.0   \n",
       "...           ...          ...   \n",
       "1149775  276448.0         10.0   \n",
       "1149776  276638.0         10.0   \n",
       "1149777  276663.0          5.0   \n",
       "1149778  276668.0          8.0   \n",
       "1149779  276723.0          8.0   \n",
       "\n",
       "                                                  Location  Age  \\\n",
       "1                                 timmins, ontario, canada   34   \n",
       "9                                 timmins, ontario, canada   34   \n",
       "12                                timmins, ontario, canada   34   \n",
       "13                                timmins, ontario, canada   34   \n",
       "15                                timmins, ontario, canada   34   \n",
       "...                                                    ...  ...   \n",
       "1149775                   torre del greco, campania, italy   34   \n",
       "1149776                               shanghai, n/a, china   32   \n",
       "1149777             santiago de compostela, galicia, spain   20   \n",
       "1149778  mülheim an der ruhr, nordrhein-westfalen, germany   34   \n",
       "1149779                            san antonio, texas, usa   12   \n",
       "\n",
       "                           City        Country        Age Group  \\\n",
       "1                       timmins         Canada  19-35 years old   \n",
       "9                       timmins         Canada  19-35 years old   \n",
       "12                      timmins         Canada  19-35 years old   \n",
       "13                      timmins         Canada  19-35 years old   \n",
       "15                      timmins         Canada  19-35 years old   \n",
       "...                         ...            ...              ...   \n",
       "1149775         torre del greco          Italy  19-35 years old   \n",
       "1149776                shanghai          China  19-35 years old   \n",
       "1149777  santiago de compostela          Spain  19-35 years old   \n",
       "1149778     mülheim an der ruhr        Germany  19-35 years old   \n",
       "1149779             san antonio  United States   5-18 years old   \n",
       "\n",
       "              Rating category  \n",
       "1             Middle category  \n",
       "9             Middle category  \n",
       "12            Middle category  \n",
       "13            Middle category  \n",
       "15            Middle category  \n",
       "...                       ...  \n",
       "1149775  Outstanding category  \n",
       "1149776  Outstanding category  \n",
       "1149777       Middle category  \n",
       "1149778         Good category  \n",
       "1149779         Good category  \n",
       "\n",
       "[433671 rows x 13 columns]"
      ]
     },
     "execution_count": 52,
     "metadata": {},
     "output_type": "execute_result"
    }
   ],
   "source": [
    "# Custom function to correct country names and handle specific cases\n",
    "def correct_country_name(country):\n",
    "    # Lowercase the country for case-insensitive matching\n",
    "    country_lower = country.lower()\n",
    "\n",
    "    # Define patterns for specific countries\n",
    "    au_patterns = [' australia', ' autralia']\n",
    "    ag_patterns = [' antigua and barbuda']\n",
    "    at_patterns = [' austria', ' austria\"']\n",
    "    az_patterns = [' az', ' azerbaijan']\n",
    "    ba_patterns = [' bosnia and herzegovina']\n",
    "    be_patterns = [' belgium', ' la belgique']\n",
    "    br_patterns = [' brasil', ' brazil', ' brazil\"']\n",
    "    ca_patterns = [' canada', ' cananda']\n",
    "    cn_patterns = [' china', ' la chine éternelle!', ' p.r.china']\n",
    "    cr_patterns = [' costa rica', ' costa rica\"']\n",
    "    hr_patterns = [' croatia', ' croatia\"']\n",
    "    eu_patterns = [' europe']\n",
    "    dk_patterns = [' denmark', ' denmark\"']\n",
    "    fi_patterns = [' finland', ' finland\"']\n",
    "    fr_patterns = [' france', ' france\"', ' la france']\n",
    "    de_patterns = [' deutschland', ' geermany', ' germany', ' germany\"']\n",
    "    gw_patterns = [' guinea-bissau']\n",
    "    gr_patterns = [' greece', ' greece\"']\n",
    "    hu_patterns = [' hungary', ' hungary\"']\n",
    "    in_patterns = [' india', ' india\"']\n",
    "    ir_patterns = [' iran', ' iran\"']\n",
    "    ie_patterns = [' ireland', ' ireland\"']\n",
    "    il_patterns = [' israel', ' israel\"']\n",
    "    it_patterns = [' basilicata', ' calabria', ' ferrara', ' italia', ' italy', ' italy\"', ' l`italia', ' lazio', ' lombardia']\n",
    "    lu_patterns = [' luxembourg', ' luxembourg\"']\n",
    "    mm_patterns = [' burma']\n",
    "    mx_patterns = [' mexico', ' mexico\"']\n",
    "    nl_patterns = [' nederlands', ' netherlands', ' netherlands\"', ' the netherlands']\n",
    "    nz_patterns = [' new zealand', ' new zealand\"', ' nz']\n",
    "    no_patterns = [' norway', ' norway\"']\n",
    "    pa_patterns = [' panama', ' republic of panama']\n",
    "    ph_patterns = [' philippines', ' philippines\"', ' phillipines']\n",
    "    pt_patterns = [' portugal', ' portugal\"']\n",
    "    sh_patterns = [' st. helena']\n",
    "    si_patterns = [' slovenia', ' slovenia\"']\n",
    "    es_patterns = [' berguedà', ' catalonia', ' catalunya', ' catalunya spain', ' espanha / galiza', ' espaã±a', ' españa', ' españa\"', ' euskal herria', ' galiza', ' lleida', ' orense', ' spain', ' spain\"']\n",
    "    lk_patterns = [' sri lanka', ' sri lanka\"']\n",
    "    se_patterns = [' sweden', ' sweden\"']\n",
    "    ch_patterns = [' la suisse', ' switzerland', ' switzerland\"']\n",
    "    tr_patterns = [' turkey', ' turkey\"']\n",
    "    tt_patterns = [' tobago', ' trinidad and tobago']\n",
    "    ua_patterns = [' ua', ' ukraine']\n",
    "    ae_patterns = [' u.a.e', ' united arab emirates']\n",
    "    uk_patterns = [' united kindgonm', ' alderney', ' camden', ' england', ' scotland', ' u.k.', ' united kingdom', ' united kingdom\"', ' wales']\n",
    "    us_patterns = [' alachua', ' america', ' aroostook', ' c.a.', ' cherokee', ' disgruntled states of america', ' fort bend', ' framingham', ' los estados unidos de norte america', ' maracopa', ' maricopa', ' ohio', ' orange co', ' richmond country', ' rutherford', ' saint loius', ' st.thomasi', ' u.s. of a.', ' u.s.a.', ' u.s.a>', ' u.s>', ' united sates', ' united staes', ' united state', ' united states', ' united states of america', ' us', ' usa', ' usa & canada', ' usa (currently living in england)', ' worcester', ' ysa']\n",
    "    uv_patterns = [' u.s. virgin islands']\n",
    "    uy_patterns = [' urugua', ' uruguay']\n",
    "    yu_patterns = [' yugoslavia']\n",
    "\n",
    "    # Define patterns for unknown countries\n",
    "    unknown_patterns = [' &#20013;&#22269;', '', ' \\\\\"n/a\\\\\"\"', ' \\\\n/a\\\\\"\"', ' c', ' caribbean sea', ' csa', ' everywhere and anywhere', ' far away...', ' here and there', ' k1c7b1', ' kern', ' lkjlj', ' morgan', ' n/a', ' n/a - on the road', ' pender', ' petrolwar nation', ' polk', ' quit', ' shelby', ' space', ' tdzimi', ' the world tomorrow', ' universe', ' van wert', ' x', '\"', ' europe']\n",
    "    \n",
    "    # Dictionary of patterns\n",
    "    patterns = {\n",
    "        \"Australia\": au_patterns, \"Antigua and Barbuda\": ag_patterns, \"Austria\": at_patterns, \"Azerbaijan\": az_patterns, \"Belgium\": be_patterns,\n",
    "        \"Bosnia and Herzegovina\": ba_patterns, \"Brazil\": br_patterns, \"Canada\": ca_patterns, \"China\": cn_patterns, \"Costa Rica\": cr_patterns,\n",
    "        \"Croatia\": hr_patterns, \"Denmark\": dk_patterns, \"Finland\": fi_patterns, \"France\": fr_patterns,\n",
    "        \"Germany\": de_patterns, \"Guinea Bissau\": gw_patterns, \"Greece\": gr_patterns, \"Hungary\": hu_patterns, \"India\": in_patterns,\n",
    "        \"Iran\": ir_patterns, \"Ireland\": ie_patterns, \"Israel\": il_patterns, \"Italy\": it_patterns,\n",
    "        \"Luxembourg\": lu_patterns, \"Myanmar\": mm_patterns, \"Mexico\": mx_patterns, \"Netherlands\": nl_patterns, \"New Zealand\": nz_patterns,\n",
    "        \"Norway\": no_patterns, \"Panama\": pa_patterns, \"Philippines\": ph_patterns, \"Portugal\": pt_patterns,\n",
    "        \"Saint Helena\": sh_patterns, \"Slovenia\": si_patterns, \"Spain\": es_patterns, \"Sri Lanka\": lk_patterns,\n",
    "        \"Sweden\": se_patterns, \"Switzerland\": ch_patterns, \"Turkey\": tr_patterns, \"Trinidad and Tobago\": tt_patterns, \"Ukraine\": ua_patterns,\n",
    "        \"United Arab Emirates\": ae_patterns, \"United Kingdom\": uk_patterns, \"United States\": us_patterns,\n",
    "        \"U.S. Virgin Islands\": uv_patterns, \"Uruguay\": uy_patterns, \"Serbia\": yu_patterns, \"Unknown\": unknown_patterns\n",
    "    }\n",
    "\n",
    "    # Check if country matches any known pattern\n",
    "    for country_name, pattern_list in patterns.items():\n",
    "        if country_lower in pattern_list:\n",
    "            return country_name\n",
    "\n",
    "    # If the country does not match any known pattern, return it in title case\n",
    "    return country.title()\n",
    "\n",
    "# Apply the custom function to the 'Country' column\n",
    "ratings_explicit['Country'] = ratings_explicit['Country'].apply(correct_country_name)\n",
    "\n",
    "# Display the modified DataFrame\n",
    "ratings_explicit"
   ]
  },
  {
   "cell_type": "code",
   "execution_count": 53,
   "id": "24d0a9cc",
   "metadata": {},
   "outputs": [
    {
     "name": "stdout",
     "output_type": "stream",
     "text": [
      "[' Afghanistan', ' Albania', ' Algeria', ' Andorra', ' Angola', ' Antarctica', ' Argentina', ' Aruba', ' Bahamas', ' Bahrain', ' Bangladesh', ' Barbados', ' Belize', ' Benin', ' Bermuda', ' Bolivia', ' Brunei', ' Bulgaria', ' Cambodia', ' Cameroon', ' Cape Verde', ' Cayman Islands', ' Channel Islands', ' Chile', ' Colombia', ' Cuba', ' Cyprus', ' Czech Republic', ' Dominican Republic', ' Ecuador', ' Egypt', ' El Salvador', ' Estonia', ' Fiji', ' Gabon', ' Ghana', ' Grenada', ' Guam', ' Guatemala', ' Guernsey', ' Guinea', ' Honduras', ' Hong Kong', ' Iceland', ' Indonesia', ' Jamaica', ' Japan', ' Jersey', ' Jordan', ' Kazakhstan', ' Kenya', ' Kosovo', ' Kuwait', ' Laos', ' Latvia', ' Lebanon', ' Libya', ' Lithuania', ' Macau', ' Macedonia', ' Madagascar', ' Malaysia', ' Malta', ' Mauritius', ' Moldova', ' Monaco', ' Mongolia', ' Morocco', ' Mozambique', ' Nepal', ' Netherlands Antilles', ' Nicaragua', ' Niger', ' Nigeria', ' Oman', ' Pakistan', ' Palau', ' Papua New Guinea', ' Paraguay', ' Peru', ' Poland', ' Puerto Rico', ' Qatar', ' Romania', ' Russia', ' Saint Lucia', ' Samoa', ' San Marino', ' Saudi Arabia', ' Singapore', ' Slovakia', ' South Africa', ' South Korea', ' Syria', ' Taiwan', ' Tajikistan', ' Tanzania', ' Thailand', ' Tonga', ' Tunisia', ' Turkmenistan', ' Uganda', ' Unknown', ' Uzbekistan', ' Venezuela', ' Vietnam', ' Yemen', ' Zambia', ' Zimbabwe', 'Antigua and Barbuda', 'Australia', 'Austria', 'Azerbaijan', 'Belgium', 'Bosnia and Herzegovina', 'Brazil', 'Canada', 'China', 'Costa Rica', 'Croatia', 'Denmark', 'Finland', 'France', 'Germany', 'Greece', 'Guinea Bissau', 'Hungary', 'India', 'Iran', 'Ireland', 'Israel', 'Italy', 'Luxembourg', 'Mexico', 'Myanmar', 'Netherlands', 'New Zealand', 'Norway', 'Panama', 'Philippines', 'Portugal', 'Saint Helena', 'Serbia', 'Slovenia', 'Spain', 'Sri Lanka', 'Sweden', 'Switzerland', 'Trinidad and Tobago', 'Turkey', 'U.S. Virgin Islands', 'Ukraine', 'United Arab Emirates', 'United Kingdom', 'United States', 'Unknown', 'Uruguay']\n"
     ]
    }
   ],
   "source": [
    "# Check updated unique 'Country' values\n",
    "\n",
    "print(sorted(ratings_explicit['Country'].unique()))"
   ]
  },
  {
   "cell_type": "code",
   "execution_count": 54,
   "id": "f107a8ec",
   "metadata": {},
   "outputs": [
    {
     "name": "stdout",
     "output_type": "stream",
     "text": [
      "['Afghanistan', 'Albania', 'Algeria', 'Andorra', 'Angola', 'Antarctica', 'Antigua and Barbuda', 'Argentina', 'Aruba', 'Australia', 'Austria', 'Azerbaijan', 'Bahamas', 'Bahrain', 'Bangladesh', 'Barbados', 'Belgium', 'Belize', 'Benin', 'Bermuda', 'Bolivia', 'Bosnia and Herzegovina', 'Brazil', 'Brunei', 'Bulgaria', 'Cambodia', 'Cameroon', 'Canada', 'Cape Verde', 'Cayman Islands', 'Channel Islands', 'Chile', 'China', 'Colombia', 'Costa Rica', 'Croatia', 'Cuba', 'Cyprus', 'Czech Republic', 'Denmark', 'Dominican Republic', 'Ecuador', 'Egypt', 'El Salvador', 'Estonia', 'Fiji', 'Finland', 'France', 'Gabon', 'Germany', 'Ghana', 'Greece', 'Grenada', 'Guam', 'Guatemala', 'Guernsey', 'Guinea', 'Guinea Bissau', 'Honduras', 'Hong Kong', 'Hungary', 'Iceland', 'India', 'Indonesia', 'Iran', 'Ireland', 'Israel', 'Italy', 'Jamaica', 'Japan', 'Jersey', 'Jordan', 'Kazakhstan', 'Kenya', 'Kosovo', 'Kuwait', 'Laos', 'Latvia', 'Lebanon', 'Libya', 'Lithuania', 'Luxembourg', 'Macau', 'Macedonia', 'Madagascar', 'Malaysia', 'Malta', 'Mauritius', 'Mexico', 'Moldova', 'Monaco', 'Mongolia', 'Morocco', 'Mozambique', 'Myanmar', 'Nepal', 'Netherlands', 'Netherlands Antilles', 'New Zealand', 'Nicaragua', 'Niger', 'Nigeria', 'Norway', 'Oman', 'Pakistan', 'Palau', 'Panama', 'Papua New Guinea', 'Paraguay', 'Peru', 'Philippines', 'Poland', 'Portugal', 'Puerto Rico', 'Qatar', 'Romania', 'Russia', 'Saint Helena', 'Saint Lucia', 'Samoa', 'San Marino', 'Saudi Arabia', 'Serbia', 'Singapore', 'Slovakia', 'Slovenia', 'South Africa', 'South Korea', 'Spain', 'Sri Lanka', 'Sweden', 'Switzerland', 'Syria', 'Taiwan', 'Tajikistan', 'Tanzania', 'Thailand', 'Tonga', 'Trinidad and Tobago', 'Tunisia', 'Turkey', 'Turkmenistan', 'U.S. Virgin Islands', 'Uganda', 'Ukraine', 'United Arab Emirates', 'United Kingdom', 'United States', 'Unknown', 'Uruguay', 'Uzbekistan', 'Venezuela', 'Vietnam', 'Yemen', 'Zambia', 'Zimbabwe']\n"
     ]
    },
    {
     "name": "stderr",
     "output_type": "stream",
     "text": [
      "/var/folders/bx/5gbvgdk148552knvq9wj8vgm0000gn/T/ipykernel_21300/370543721.py:3: SettingWithCopyWarning: \n",
      "A value is trying to be set on a copy of a slice from a DataFrame.\n",
      "Try using .loc[row_indexer,col_indexer] = value instead\n",
      "\n",
      "See the caveats in the documentation: https://pandas.pydata.org/pandas-docs/stable/user_guide/indexing.html#returning-a-view-versus-a-copy\n",
      "  ratings_explicit['Country'] = ratings_explicit['Country'].str.lstrip()\n"
     ]
    }
   ],
   "source": [
    "# Remove whitespaces\n",
    "\n",
    "ratings_explicit['Country'] = ratings_explicit['Country'].str.lstrip()\n",
    "\n",
    "# Check the output\n",
    "\n",
    "print(sorted(ratings_explicit['Country'].unique()))"
   ]
  },
  {
   "cell_type": "markdown",
   "id": "4e02cd26",
   "metadata": {},
   "source": [
    "### Creating a 'Continent' column:"
   ]
  },
  {
   "cell_type": "code",
   "execution_count": 55,
   "id": "7b836589",
   "metadata": {},
   "outputs": [
    {
     "name": "stderr",
     "output_type": "stream",
     "text": [
      "/var/folders/bx/5gbvgdk148552knvq9wj8vgm0000gn/T/ipykernel_21300/1142705210.py:1: SettingWithCopyWarning: \n",
      "A value is trying to be set on a copy of a slice from a DataFrame.\n",
      "Try using .loc[row_indexer,col_indexer] = value instead\n",
      "\n",
      "See the caveats in the documentation: https://pandas.pydata.org/pandas-docs/stable/user_guide/indexing.html#returning-a-view-versus-a-copy\n",
      "  ratings_explicit.loc[\n"
     ]
    }
   ],
   "source": [
    "ratings_explicit.loc[\n",
    "    ratings_explicit['Country'].isin(['Antarctica']),\n",
    "    'Continent'\n",
    "] = 'Antarctica'\n",
    "\n",
    "ratings_explicit.loc[\n",
    "    ratings_explicit['Country'].isin(['Algeria', 'Angola', 'Benin', 'Cameroon', 'Cape Verde', \\\n",
    "                                      'Egypt', 'Gabon', 'Ghana', 'Guinea', 'Guinea Bissau', \\\n",
    "                                      'Kenya', 'Libya', 'Madagascar', 'Mauritius', 'Morocco', 'Mozambique', \\\n",
    "                                      'Niger', 'Nigeria', 'Saint Helena', 'South Africa', \\\n",
    "                                      'Tanzania', 'Tunisia', 'Uganda', 'Zambia', 'Zimbabwe']),\n",
    "    'Continent'\n",
    "] = 'Africa'\n",
    "\n",
    "ratings_explicit.loc[\n",
    "    ratings_explicit['Country'].isin(['Afghanistan', 'Bahrain', 'Bangladesh', 'Brunei', 'Myanmar', 'Cambodia', \\\n",
    "                                      'China', 'Hong Kong', 'India', 'Indonesia', 'Iran', 'Israel', 'Japan', \\\n",
    "                                      'Jordan', 'Kuwait', 'Laos', 'Lebanon', 'Macau', 'Malaysia', 'Mongolia', \\\n",
    "                                      'Nepal', 'Oman', 'Pakistan', 'Philippines', 'Qatar', 'Russia', \\\n",
    "                                      'Saudi Arabia', 'Singapore', 'South Korea', 'Sri Lanka', 'Syria', 'Taiwan', \\\n",
    "                                      'Tajikistan', 'Thailand', 'Turkmenistan', 'United Arab Emirates', \\\n",
    "                                      'Uzbekistan', 'Vietnam', 'Yemen']),\n",
    "    'Continent'\n",
    "] = 'Asia'\n",
    "\n",
    "ratings_explicit.loc[\n",
    "    ratings_explicit['Country'].isin(['Albania', 'Andorra', 'Austria', 'Azerbaijan', 'Belgium', 'Bosnia and Herzegovina', \\\n",
    "                                      'Bulgaria', 'Channel Islands', 'Croatia', 'Cyprus', 'Czech Republic', 'Denmark', 'Estonia', \\\n",
    "                                      'Finland', 'France', 'Germany', 'Greece', 'Guernsey', 'Hungary', 'Iceland', 'Ireland', 'Italy', \\\n",
    "                                      'Jersey', 'Kazakhstan', 'Kosovo', 'Latvia', 'Lithuania', 'Luxembourg', 'Macedonia', 'Malta', 'Moldova', 'Monaco', \\\n",
    "                                      'Netherlands', 'Norway', 'Poland', 'Portugal', 'Romania', 'San Marino', 'Serbia', 'Slovakia', \\\n",
    "                                      'Slovenia', 'Spain', 'Sweden', 'Switzerland', 'Turkey', 'Ukraine', 'United Kingdom']),\n",
    "    'Continent'\n",
    "] = 'Europe'\n",
    "\n",
    "ratings_explicit.loc[\n",
    "    ratings_explicit['Country'].isin(['Antigua and Barbuda', 'Aruba', 'Bahamas', 'Barbados', 'Belize', 'Bermuda', 'Canada', 'Cayman Islands', \\\n",
    "                                      'Cuba', 'Costa Rica', 'Dominican Republic', 'El Salvador', 'Guatemala', 'Grenada', 'Honduras', 'Jamaica', \\\n",
    "                                      'Mexico', 'Netherlands Antilles', 'Nicaragua', 'Panama', 'Puerto Rico', 'Saint Lucia', \\\n",
    "                                      'Trinidad and Tobago', 'U.S. Virgin Islands', 'United States']),\n",
    "    'Continent'\n",
    "] = 'North America'\n",
    "\n",
    "ratings_explicit.loc[\n",
    "    ratings_explicit['Country'].isin(['Australia', 'Fiji', 'Guam', 'New Zealand','Palau', 'Papua New Guinea', \\\n",
    "                                      'Samoa', 'Tonga']),\n",
    "    'Continent'\n",
    "] = 'Oceania'\n",
    "\n",
    "ratings_explicit.loc[\n",
    "    ratings_explicit['Country'].isin(['Argentina', 'Bolivia', 'Brazil', 'Chile', 'Colombia', \\\n",
    "                                      'Ecuador', 'Paraguay', 'Peru', 'Uruguay', 'Venezuela']),\n",
    "    'Continent'\n",
    "] = 'South America'\n",
    "\n",
    "ratings_explicit.loc[\n",
    "    ratings_explicit['Country'].isin(['Unknown']),\n",
    "    'Continent'\n",
    "] = 'Unknown'"
   ]
  },
  {
   "cell_type": "code",
   "execution_count": 56,
   "id": "f91bd323",
   "metadata": {},
   "outputs": [
    {
     "data": {
      "text/plain": [
       "Continent\n",
       "North America    310585\n",
       "Europe            81643\n",
       "Unknown           20816\n",
       "Oceania           12480\n",
       "Asia               6594\n",
       "South America      1224\n",
       "Africa              277\n",
       "Antarctica           52\n",
       "Name: count, dtype: int64"
      ]
     },
     "execution_count": 56,
     "metadata": {},
     "output_type": "execute_result"
    }
   ],
   "source": [
    "# Checking the new 'Continent' column\n",
    "\n",
    "ratings_explicit['Continent'].value_counts(dropna = False)"
   ]
  },
  {
   "cell_type": "code",
   "execution_count": 57,
   "id": "8aea2e7f",
   "metadata": {},
   "outputs": [
    {
     "data": {
      "image/png": "[encoded data removed]",
      "text/plain": [
       "<Figure size 640x480 with 1 Axes>"
      ]
     },
     "metadata": {},
     "output_type": "display_data"
    }
   ],
   "source": [
    "# Create a barchart for the continents from top to bottom\n",
    "\n",
    "top_continent_barchart = ratings_explicit['Continent'].value_counts()[:5].sort_values(ascending = True).plot.barh(title = 'Top 5 Continents', ylabel='Continent', xlabel='', color ='orange')\n",
    "plt.tight_layout()\n",
    "plt.savefig(os.path.join(path, '04 Analysis/Visualizations/top_continent_barchart.png'))\n",
    "\n",
    "# Show the graph\n",
    "\n",
    "plt.show()"
   ]
  },
  {
   "cell_type": "markdown",
   "id": "c347ffa6",
   "metadata": {},
   "source": [
    "### 4. Questions and Answers"
   ]
  },
  {
   "cell_type": "markdown",
   "id": "b7a3be53",
   "metadata": {},
   "source": [
    "### *1. What geographical countries show the highest and lowest ratings?*"
   ]
  },
  {
   "cell_type": "code",
   "execution_count": 58,
   "id": "a1cb5394",
   "metadata": {},
   "outputs": [],
   "source": [
    "# Top 10 countries with higher ratings\n",
    "\n",
    "country_count = pd.DataFrame(ratings_explicit.groupby(['Country'])['Book-Rating'].max())\n",
    "top10countries_highratings = country_count.sort_values('Book-Rating', ascending = False).head(10)"
   ]
  },
  {
   "cell_type": "code",
   "execution_count": 59,
   "id": "bbc65849",
   "metadata": {},
   "outputs": [
    {
     "data": {
      "text/html": [
       "<div>\n",
       "<style scoped>\n",
       "    .dataframe tbody tr th:only-of-type {\n",
       "        vertical-align: middle;\n",
       "    }\n",
       "\n",
       "    .dataframe tbody tr th {\n",
       "        vertical-align: top;\n",
       "    }\n",
       "\n",
       "    .dataframe thead th {\n",
       "        text-align: right;\n",
       "    }\n",
       "</style>\n",
       "<table border=\"1\" class=\"dataframe\">\n",
       "  <thead>\n",
       "    <tr style=\"text-align: right;\">\n",
       "      <th></th>\n",
       "      <th>Book-Rating</th>\n",
       "    </tr>\n",
       "    <tr>\n",
       "      <th>Country</th>\n",
       "      <th></th>\n",
       "    </tr>\n",
       "  </thead>\n",
       "  <tbody>\n",
       "    <tr>\n",
       "      <th>Thailand</th>\n",
       "      <td>10.0</td>\n",
       "    </tr>\n",
       "    <tr>\n",
       "      <th>Singapore</th>\n",
       "      <td>10.0</td>\n",
       "    </tr>\n",
       "    <tr>\n",
       "      <th>Slovenia</th>\n",
       "      <td>10.0</td>\n",
       "    </tr>\n",
       "    <tr>\n",
       "      <th>South Africa</th>\n",
       "      <td>10.0</td>\n",
       "    </tr>\n",
       "    <tr>\n",
       "      <th>South Korea</th>\n",
       "      <td>10.0</td>\n",
       "    </tr>\n",
       "    <tr>\n",
       "      <th>Japan</th>\n",
       "      <td>10.0</td>\n",
       "    </tr>\n",
       "    <tr>\n",
       "      <th>Spain</th>\n",
       "      <td>10.0</td>\n",
       "    </tr>\n",
       "    <tr>\n",
       "      <th>Italy</th>\n",
       "      <td>10.0</td>\n",
       "    </tr>\n",
       "    <tr>\n",
       "      <th>Israel</th>\n",
       "      <td>10.0</td>\n",
       "    </tr>\n",
       "    <tr>\n",
       "      <th>Ireland</th>\n",
       "      <td>10.0</td>\n",
       "    </tr>\n",
       "  </tbody>\n",
       "</table>\n",
       "</div>"
      ],
      "text/plain": [
       "              Book-Rating\n",
       "Country                  \n",
       "Thailand             10.0\n",
       "Singapore            10.0\n",
       "Slovenia             10.0\n",
       "South Africa         10.0\n",
       "South Korea          10.0\n",
       "Japan                10.0\n",
       "Spain                10.0\n",
       "Italy                10.0\n",
       "Israel               10.0\n",
       "Ireland              10.0"
      ]
     },
     "execution_count": 59,
     "metadata": {},
     "output_type": "execute_result"
    }
   ],
   "source": [
    "top10countries_highratings"
   ]
  },
  {
   "cell_type": "code",
   "execution_count": 60,
   "id": "e3c76407",
   "metadata": {},
   "outputs": [],
   "source": [
    "# Top 10 countries with average ratings\n",
    "\n",
    "country1_count = pd.DataFrame(ratings_explicit.groupby(['Country'])['Book-Rating'].mean())\n",
    "top10countries_avgratings = country1_count.sort_values('Book-Rating', ascending = False).head(10)"
   ]
  },
  {
   "cell_type": "code",
   "execution_count": 61,
   "id": "b82e2fa2",
   "metadata": {},
   "outputs": [
    {
     "data": {
      "text/html": [
       "<div>\n",
       "<style scoped>\n",
       "    .dataframe tbody tr th:only-of-type {\n",
       "        vertical-align: middle;\n",
       "    }\n",
       "\n",
       "    .dataframe tbody tr th {\n",
       "        vertical-align: top;\n",
       "    }\n",
       "\n",
       "    .dataframe thead th {\n",
       "        text-align: right;\n",
       "    }\n",
       "</style>\n",
       "<table border=\"1\" class=\"dataframe\">\n",
       "  <thead>\n",
       "    <tr style=\"text-align: right;\">\n",
       "      <th></th>\n",
       "      <th>Book-Rating</th>\n",
       "    </tr>\n",
       "    <tr>\n",
       "      <th>Country</th>\n",
       "      <th></th>\n",
       "    </tr>\n",
       "  </thead>\n",
       "  <tbody>\n",
       "    <tr>\n",
       "      <th>Bosnia and Herzegovina</th>\n",
       "      <td>10.000000</td>\n",
       "    </tr>\n",
       "    <tr>\n",
       "      <th>Mongolia</th>\n",
       "      <td>10.000000</td>\n",
       "    </tr>\n",
       "    <tr>\n",
       "      <th>Bangladesh</th>\n",
       "      <td>9.500000</td>\n",
       "    </tr>\n",
       "    <tr>\n",
       "      <th>Romania</th>\n",
       "      <td>9.048193</td>\n",
       "    </tr>\n",
       "    <tr>\n",
       "      <th>U.S. Virgin Islands</th>\n",
       "      <td>9.000000</td>\n",
       "    </tr>\n",
       "    <tr>\n",
       "      <th>Mauritius</th>\n",
       "      <td>9.000000</td>\n",
       "    </tr>\n",
       "    <tr>\n",
       "      <th>Kosovo</th>\n",
       "      <td>9.000000</td>\n",
       "    </tr>\n",
       "    <tr>\n",
       "      <th>Yemen</th>\n",
       "      <td>9.000000</td>\n",
       "    </tr>\n",
       "    <tr>\n",
       "      <th>Antigua and Barbuda</th>\n",
       "      <td>9.000000</td>\n",
       "    </tr>\n",
       "    <tr>\n",
       "      <th>Paraguay</th>\n",
       "      <td>9.000000</td>\n",
       "    </tr>\n",
       "  </tbody>\n",
       "</table>\n",
       "</div>"
      ],
      "text/plain": [
       "                        Book-Rating\n",
       "Country                            \n",
       "Bosnia and Herzegovina    10.000000\n",
       "Mongolia                  10.000000\n",
       "Bangladesh                 9.500000\n",
       "Romania                    9.048193\n",
       "U.S. Virgin Islands        9.000000\n",
       "Mauritius                  9.000000\n",
       "Kosovo                     9.000000\n",
       "Yemen                      9.000000\n",
       "Antigua and Barbuda        9.000000\n",
       "Paraguay                   9.000000"
      ]
     },
     "execution_count": 61,
     "metadata": {},
     "output_type": "execute_result"
    }
   ],
   "source": [
    "top10countries_avgratings"
   ]
  },
  {
   "cell_type": "code",
   "execution_count": 62,
   "id": "dccc6069",
   "metadata": {},
   "outputs": [
    {
     "data": {
      "text/html": [
       "<div>\n",
       "<style scoped>\n",
       "    .dataframe tbody tr th:only-of-type {\n",
       "        vertical-align: middle;\n",
       "    }\n",
       "\n",
       "    .dataframe tbody tr th {\n",
       "        vertical-align: top;\n",
       "    }\n",
       "\n",
       "    .dataframe thead th {\n",
       "        text-align: right;\n",
       "    }\n",
       "</style>\n",
       "<table border=\"1\" class=\"dataframe\">\n",
       "  <thead>\n",
       "    <tr style=\"text-align: right;\">\n",
       "      <th>Age Group</th>\n",
       "      <th>19-35 years old</th>\n",
       "      <th>36-55 years old</th>\n",
       "      <th>5-18 years old</th>\n",
       "      <th>56-74 years old</th>\n",
       "      <th>75-90 years old</th>\n",
       "    </tr>\n",
       "    <tr>\n",
       "      <th>Continent</th>\n",
       "      <th></th>\n",
       "      <th></th>\n",
       "      <th></th>\n",
       "      <th></th>\n",
       "      <th></th>\n",
       "    </tr>\n",
       "  </thead>\n",
       "  <tbody>\n",
       "    <tr>\n",
       "      <th>Antarctica</th>\n",
       "      <td>52.0</td>\n",
       "      <td>NaN</td>\n",
       "      <td>NaN</td>\n",
       "      <td>NaN</td>\n",
       "      <td>NaN</td>\n",
       "    </tr>\n",
       "    <tr>\n",
       "      <th>Africa</th>\n",
       "      <td>154.0</td>\n",
       "      <td>68.0</td>\n",
       "      <td>43.0</td>\n",
       "      <td>12.0</td>\n",
       "      <td>NaN</td>\n",
       "    </tr>\n",
       "    <tr>\n",
       "      <th>South America</th>\n",
       "      <td>683.0</td>\n",
       "      <td>384.0</td>\n",
       "      <td>84.0</td>\n",
       "      <td>72.0</td>\n",
       "      <td>1.0</td>\n",
       "    </tr>\n",
       "    <tr>\n",
       "      <th>Asia</th>\n",
       "      <td>4677.0</td>\n",
       "      <td>931.0</td>\n",
       "      <td>958.0</td>\n",
       "      <td>27.0</td>\n",
       "      <td>1.0</td>\n",
       "    </tr>\n",
       "    <tr>\n",
       "      <th>Oceania</th>\n",
       "      <td>8702.0</td>\n",
       "      <td>2404.0</td>\n",
       "      <td>570.0</td>\n",
       "      <td>777.0</td>\n",
       "      <td>27.0</td>\n",
       "    </tr>\n",
       "    <tr>\n",
       "      <th>Unknown</th>\n",
       "      <td>17734.0</td>\n",
       "      <td>2102.0</td>\n",
       "      <td>180.0</td>\n",
       "      <td>706.0</td>\n",
       "      <td>94.0</td>\n",
       "    </tr>\n",
       "    <tr>\n",
       "      <th>Europe</th>\n",
       "      <td>56154.0</td>\n",
       "      <td>19050.0</td>\n",
       "      <td>2600.0</td>\n",
       "      <td>3819.0</td>\n",
       "      <td>20.0</td>\n",
       "    </tr>\n",
       "    <tr>\n",
       "      <th>North America</th>\n",
       "      <td>189066.0</td>\n",
       "      <td>93953.0</td>\n",
       "      <td>10854.0</td>\n",
       "      <td>15941.0</td>\n",
       "      <td>771.0</td>\n",
       "    </tr>\n",
       "  </tbody>\n",
       "</table>\n",
       "</div>"
      ],
      "text/plain": [
       "Age Group      19-35 years old  36-55 years old  5-18 years old  \\\n",
       "Continent                                                         \n",
       "Antarctica                52.0              NaN             NaN   \n",
       "Africa                   154.0             68.0            43.0   \n",
       "South America            683.0            384.0            84.0   \n",
       "Asia                    4677.0            931.0           958.0   \n",
       "Oceania                 8702.0           2404.0           570.0   \n",
       "Unknown                17734.0           2102.0           180.0   \n",
       "Europe                 56154.0          19050.0          2600.0   \n",
       "North America         189066.0          93953.0         10854.0   \n",
       "\n",
       "Age Group      56-74 years old  75-90 years old  \n",
       "Continent                                        \n",
       "Antarctica                 NaN              NaN  \n",
       "Africa                    12.0              NaN  \n",
       "South America             72.0              1.0  \n",
       "Asia                      27.0              1.0  \n",
       "Oceania                  777.0             27.0  \n",
       "Unknown                  706.0             94.0  \n",
       "Europe                  3819.0             20.0  \n",
       "North America          15941.0            771.0  "
      ]
     },
     "execution_count": 62,
     "metadata": {},
     "output_type": "execute_result"
    }
   ],
   "source": [
    "# Group by 'Continent' and 'Age Group'\n",
    "\n",
    "continent_age_group = ratings_explicit.groupby(['Continent', 'Age Group']).size().unstack()\n",
    "\n",
    "continent_age_group = continent_age_group.loc[continent_age_group.sum(axis = 1).sort_values(ascending = True).index]\n",
    "\n",
    "# Check output\n",
    "\n",
    "continent_age_group"
   ]
  },
  {
   "cell_type": "code",
   "execution_count": 63,
   "id": "24dd7694",
   "metadata": {},
   "outputs": [
    {
     "data": {
      "image/png": "[encoded data removed]",
      "text/plain": [
       "<Figure size 640x480 with 1 Axes>"
      ]
     },
     "metadata": {},
     "output_type": "display_data"
    }
   ],
   "source": [
    "# Create bar chart for 'continent_age_group'\n",
    "\n",
    "continent_age_group_bar = continent_age_group.plot.barh(stacked = True)\n",
    "\n",
    "# Title and labels\n",
    "\n",
    "plt.title('Continent by Age Group')\n",
    "plt.xlabel('Count')\n",
    "plt.ylabel('Continent')\n",
    "plt.tight_layout()\n",
    "plt.savefig(os.path.join(path, '04 Analysis/Visualizations/continent_age_group_bar.png'))\n",
    "\n",
    "# Show the graph\n",
    "\n",
    "plt.show()"
   ]
  },
  {
   "cell_type": "code",
   "execution_count": 64,
   "id": "9eca239b",
   "metadata": {},
   "outputs": [
    {
     "data": {
      "text/html": [
       "<div>\n",
       "<style scoped>\n",
       "    .dataframe tbody tr th:only-of-type {\n",
       "        vertical-align: middle;\n",
       "    }\n",
       "\n",
       "    .dataframe tbody tr th {\n",
       "        vertical-align: top;\n",
       "    }\n",
       "\n",
       "    .dataframe thead th {\n",
       "        text-align: right;\n",
       "    }\n",
       "</style>\n",
       "<table border=\"1\" class=\"dataframe\">\n",
       "  <thead>\n",
       "    <tr style=\"text-align: right;\">\n",
       "      <th></th>\n",
       "      <th>Country</th>\n",
       "      <th>Book-Rating</th>\n",
       "    </tr>\n",
       "  </thead>\n",
       "  <tbody>\n",
       "    <tr>\n",
       "      <th>973377</th>\n",
       "      <td>Austria</td>\n",
       "      <td>10.0</td>\n",
       "    </tr>\n",
       "    <tr>\n",
       "      <th>706754</th>\n",
       "      <td>United States</td>\n",
       "      <td>10.0</td>\n",
       "    </tr>\n",
       "    <tr>\n",
       "      <th>706778</th>\n",
       "      <td>United States</td>\n",
       "      <td>10.0</td>\n",
       "    </tr>\n",
       "    <tr>\n",
       "      <th>337364</th>\n",
       "      <td>United States</td>\n",
       "      <td>10.0</td>\n",
       "    </tr>\n",
       "    <tr>\n",
       "      <th>706776</th>\n",
       "      <td>United States</td>\n",
       "      <td>10.0</td>\n",
       "    </tr>\n",
       "    <tr>\n",
       "      <th>337354</th>\n",
       "      <td>United Kingdom</td>\n",
       "      <td>10.0</td>\n",
       "    </tr>\n",
       "    <tr>\n",
       "      <th>844916</th>\n",
       "      <td>United States</td>\n",
       "      <td>10.0</td>\n",
       "    </tr>\n",
       "    <tr>\n",
       "      <th>337350</th>\n",
       "      <td>Canada</td>\n",
       "      <td>10.0</td>\n",
       "    </tr>\n",
       "    <tr>\n",
       "      <th>844917</th>\n",
       "      <td>United States</td>\n",
       "      <td>10.0</td>\n",
       "    </tr>\n",
       "    <tr>\n",
       "      <th>337348</th>\n",
       "      <td>Canada</td>\n",
       "      <td>10.0</td>\n",
       "    </tr>\n",
       "  </tbody>\n",
       "</table>\n",
       "</div>"
      ],
      "text/plain": [
       "               Country  Book-Rating\n",
       "973377         Austria         10.0\n",
       "706754   United States         10.0\n",
       "706778   United States         10.0\n",
       "337364   United States         10.0\n",
       "706776   United States         10.0\n",
       "337354  United Kingdom         10.0\n",
       "844916   United States         10.0\n",
       "337350          Canada         10.0\n",
       "844917   United States         10.0\n",
       "337348          Canada         10.0"
      ]
     },
     "execution_count": 64,
     "metadata": {},
     "output_type": "execute_result"
    }
   ],
   "source": [
    "# Group 'Age Group' with High 'Book Rating' into a dataframe\n",
    "\n",
    "top10countries_highratings = ratings_explicit[['Country', 'Book-Rating']].sort_values('Book-Rating', ascending = False).head(10)\n",
    "\n",
    "# Check Output\n",
    "\n",
    "top10countries_highratings.head(10)"
   ]
  },
  {
   "cell_type": "code",
   "execution_count": 65,
   "id": "4c4f8012",
   "metadata": {},
   "outputs": [
    {
     "data": {
      "image/png": "[encoded data removed]",
      "text/plain": [
       "<Figure size 640x480 with 1 Axes>"
      ]
     },
     "metadata": {},
     "output_type": "display_data"
    }
   ],
   "source": [
    "# Creating a bar graph for countries with high ratings\n",
    "\n",
    "countries_highratings = top10countries_highratings['Country'].value_counts(ascending = True).plot.barh(color = 'green', edgecolor = 'black')\n",
    "\n",
    "# Title and labels\n",
    "\n",
    "plt.title('Top Countries with Outstanding Ratings')\n",
    "plt.xlabel('Ratings')\n",
    "plt.ylabel('')\n",
    "plt.tight_layout()\n",
    "plt.savefig(os.path.join(path, '04 Analysis/Visualizations/countries_highratings.png'))\n",
    "\n",
    "# Show the graph\n",
    "\n",
    "plt.show()"
   ]
  },
  {
   "cell_type": "code",
   "execution_count": 66,
   "id": "7280026e",
   "metadata": {},
   "outputs": [
    {
     "data": {
      "text/html": [
       "<div>\n",
       "<style scoped>\n",
       "    .dataframe tbody tr th:only-of-type {\n",
       "        vertical-align: middle;\n",
       "    }\n",
       "\n",
       "    .dataframe tbody tr th {\n",
       "        vertical-align: top;\n",
       "    }\n",
       "\n",
       "    .dataframe thead th {\n",
       "        text-align: right;\n",
       "    }\n",
       "</style>\n",
       "<table border=\"1\" class=\"dataframe\">\n",
       "  <thead>\n",
       "    <tr style=\"text-align: right;\">\n",
       "      <th></th>\n",
       "      <th>Book-Rating</th>\n",
       "    </tr>\n",
       "    <tr>\n",
       "      <th>Country</th>\n",
       "      <th></th>\n",
       "    </tr>\n",
       "  </thead>\n",
       "  <tbody>\n",
       "    <tr>\n",
       "      <th>Bosnia and Herzegovina</th>\n",
       "      <td>10.000000</td>\n",
       "    </tr>\n",
       "    <tr>\n",
       "      <th>Mongolia</th>\n",
       "      <td>10.000000</td>\n",
       "    </tr>\n",
       "    <tr>\n",
       "      <th>Bangladesh</th>\n",
       "      <td>9.500000</td>\n",
       "    </tr>\n",
       "    <tr>\n",
       "      <th>Romania</th>\n",
       "      <td>9.048193</td>\n",
       "    </tr>\n",
       "    <tr>\n",
       "      <th>U.S. Virgin Islands</th>\n",
       "      <td>9.000000</td>\n",
       "    </tr>\n",
       "    <tr>\n",
       "      <th>Mauritius</th>\n",
       "      <td>9.000000</td>\n",
       "    </tr>\n",
       "    <tr>\n",
       "      <th>Kosovo</th>\n",
       "      <td>9.000000</td>\n",
       "    </tr>\n",
       "    <tr>\n",
       "      <th>Yemen</th>\n",
       "      <td>9.000000</td>\n",
       "    </tr>\n",
       "    <tr>\n",
       "      <th>Antigua and Barbuda</th>\n",
       "      <td>9.000000</td>\n",
       "    </tr>\n",
       "    <tr>\n",
       "      <th>Paraguay</th>\n",
       "      <td>9.000000</td>\n",
       "    </tr>\n",
       "  </tbody>\n",
       "</table>\n",
       "</div>"
      ],
      "text/plain": [
       "                        Book-Rating\n",
       "Country                            \n",
       "Bosnia and Herzegovina    10.000000\n",
       "Mongolia                  10.000000\n",
       "Bangladesh                 9.500000\n",
       "Romania                    9.048193\n",
       "U.S. Virgin Islands        9.000000\n",
       "Mauritius                  9.000000\n",
       "Kosovo                     9.000000\n",
       "Yemen                      9.000000\n",
       "Antigua and Barbuda        9.000000\n",
       "Paraguay                   9.000000"
      ]
     },
     "execution_count": 66,
     "metadata": {},
     "output_type": "execute_result"
    }
   ],
   "source": [
    "# Group 'Age Group' with Average 'Book Rating' into a dataframe\n",
    "\n",
    "top10countries_avgratings = country1_count.sort_values('Book-Rating', ascending = False).head(10)\n",
    "\n",
    "# Check Output\n",
    "\n",
    "top10countries_avgratings.head(10)"
   ]
  },
  {
   "cell_type": "code",
   "execution_count": null,
   "id": "d11a0d02",
   "metadata": {},
   "outputs": [],
   "source": [
    "# Creating a bar graph for countries with average ratings\n",
    "\n",
    "countries_avgratings = top10countries_avgratings.plot.bar(color = 'orange', edgecolor = 'black')\n",
    "\n",
    "# Title and labels\n",
    "\n",
    "plt.title('Countries with Average Ratings')\n",
    "plt.xlabel('Country')\n",
    "plt.ylabel('Ratings')\n",
    "plt.tight_layout()\n",
    "plt.savefig(os.path.join(path, '04 Analysis/Visualizations/countries_avgratings.png'))\n",
    "\n",
    "# Show the graph\n",
    "\n",
    "plt.show()"
   ]
  },
  {
   "cell_type": "code",
   "execution_count": null,
   "id": "9c9f67f8",
   "metadata": {},
   "outputs": [],
   "source": [
    "# Creating a bar graph for countries with average ratings\n",
    "\n",
    "countries_avgratings = top10countries_avgratings.plot.barh(color = 'pink', edgecolor = 'black')\n",
    "\n",
    "# Title and labels\n",
    "\n",
    "plt.title('Countries with Average Ratings')\n",
    "plt.xlabel('Ratings')\n",
    "plt.ylabel('Country')\n",
    "plt.tight_layout()\n",
    "plt.savefig(os.path.join(path, '04 Analysis/Visualizations/countries_avgratings.png'))\n",
    "\n",
    "# Show the graph\n",
    "\n",
    "plt.show()"
   ]
  },
  {
   "cell_type": "code",
   "execution_count": null,
   "id": "1601a0e4",
   "metadata": {},
   "outputs": [],
   "source": [
    "# Bottom 10 countries with lower ratings\n",
    "\n",
    "country2_count = pd.DataFrame(ratings_explicit.groupby(['Country'])['Book-Rating'].min())\n",
    "bottom10countries_lowratings = country2_count.sort_values('Book-Rating', ascending = True).head(10)"
   ]
  },
  {
   "cell_type": "code",
   "execution_count": null,
   "id": "a42c38ed",
   "metadata": {},
   "outputs": [],
   "source": [
    "bottom10countries_lowratings"
   ]
  },
  {
   "cell_type": "code",
   "execution_count": null,
   "id": "084ea647",
   "metadata": {},
   "outputs": [],
   "source": [
    "# Group 'Age Group' with High 'Book Rating' into a dataframe\n",
    "\n",
    "bottom10countries_lowratings = bottom10countries_lowratings.sort_values('Book-Rating', ascending = False).head(10)\n",
    "\n",
    "# Check Output\n",
    "\n",
    "bottom10countries_lowratings.head(10)"
   ]
  },
  {
   "cell_type": "code",
   "execution_count": null,
   "id": "796966a4",
   "metadata": {},
   "outputs": [],
   "source": [
    "# Creating a bar graph for countries with bottom ratings\n",
    "\n",
    "countries_lowratings = bottom10countries_lowratings.plot.bar(color = 'grey', edgecolor = 'black')\n",
    "\n",
    "# Title and labels\n",
    "\n",
    "plt.title('Countries with Low Ratings')\n",
    "plt.xlabel('Country')\n",
    "plt.ylabel('Ratings')\n",
    "plt.tight_layout()\n",
    "plt.savefig(os.path.join(path, '04 Analysis/Visualizations/countries_avgratings.png'))\n",
    "\n",
    "# Show the graph\n",
    "\n",
    "plt.show()"
   ]
  },
  {
   "cell_type": "code",
   "execution_count": null,
   "id": "a59aa33c",
   "metadata": {},
   "outputs": [],
   "source": [
    "# Creating a bar graph for countries with bottom ratings\n",
    "\n",
    "countries_lowratings = bottom10countries_lowratings.plot.barh(color = '#466964', edgecolor = 'black')\n",
    "\n",
    "# Title and labels\n",
    "\n",
    "plt.title('Countries with Low Ratings')\n",
    "plt.xlabel('Ratings')\n",
    "plt.ylabel('Country')\n",
    "plt.tight_layout()\n",
    "plt.savefig(os.path.join(path, '04 Analysis/Visualizations/countries_avgratings.png'))\n",
    "\n",
    "# Show the graph\n",
    "\n",
    "plt.show()"
   ]
  },
  {
   "cell_type": "code",
   "execution_count": null,
   "id": "8f101ecc",
   "metadata": {},
   "outputs": [],
   "source": [
    "# Create a barchart for top 10 countries\n",
    "\n",
    "top_countries_barchart = ratings_explicit['Country'].value_counts()[:10].sort_values(ascending = True).plot.barh(title = 'Top 10 Countries', ylabel='Country', xlabel='', color ='purple')\n",
    "plt.tight_layout()\n",
    "plt.savefig(os.path.join(path, '04 Analysis/Visualizations/top_countries_barchart.png'))\n",
    "\n",
    "# Show the graph\n",
    "\n",
    "plt.show()"
   ]
  },
  {
   "cell_type": "code",
   "execution_count": null,
   "id": "74a56d86",
   "metadata": {},
   "outputs": [],
   "source": [
    "# Create a vertical barchart for top 10 countries\n",
    "\n",
    "top_countries_vbarchart = ratings_explicit['Country'].value_counts()[:10].sort_values(ascending = False).plot.bar(title = 'Top 10 Countries', ylabel='', xlabel='')\n",
    "plt.tight_layout()\n",
    "plt.savefig(os.path.join(path, '04 Analysis/Visualizations/top_countries_vbarchart.png'))\n",
    "\n",
    "# Show the graph\n",
    "\n",
    "plt.show()"
   ]
  },
  {
   "cell_type": "markdown",
   "id": "5d448c2a",
   "metadata": {},
   "source": [
    "### *Answers for Question 1*:\n",
    "\n",
    "- The countries with the highest ratings are the US, Canada, Austria and the UK\n",
    "- The countries with the lowest ratings are mainly in Europe (i.e. with Spain and Switzerland) and Asia (i.e. with Japan and China)\n",
    "- We can see above that the top 10 countries where the users are based are the US, Canada, the UK, Unknown countries, Germany, Spain, Australia, France, Italy and Portugal\n",
    "- With the bar chart 'Continent by Age Group', we can also clearly see which part of the world represent the users "
   ]
  },
  {
   "cell_type": "markdown",
   "id": "38c923dc",
   "metadata": {},
   "source": [
    "### 2. Are there any notable patterns in reading levels based on location?"
   ]
  },
  {
   "cell_type": "markdown",
   "id": "c2dd0670",
   "metadata": {},
   "source": [
    "### *Answers for Question 2*:\n",
    "\n",
    "- Solely based on the sum of book ratings per country, we can list the US, Canada and the UK as our top 3\n",
    "- On a continent level, North America dominates followed by Europe, with the highest age group being between 19 and 35 years old"
   ]
  },
  {
   "cell_type": "markdown",
   "id": "a9518773",
   "metadata": {},
   "source": [
    "### 3. Which books are most popular books among users in the dataset?"
   ]
  },
  {
   "cell_type": "code",
   "execution_count": null,
   "id": "05b69416",
   "metadata": {},
   "outputs": [],
   "source": [
    "# Top 10 book titles and ratings\n",
    "\n",
    "titles_count = pd.DataFrame(ratings_explicit.groupby(['bookTitle'])['Book-Rating'].sum())\n",
    "top10titles = titles_count.sort_values('Book-Rating', ascending = False).head(11)"
   ]
  },
  {
   "cell_type": "code",
   "execution_count": null,
   "id": "64eaa3a7",
   "metadata": {},
   "outputs": [],
   "source": [
    "top10titles # The novel 'The Lovely Bones' is the winner, achieving the highest amount or ratings throughout time"
   ]
  },
  {
   "cell_type": "code",
   "execution_count": null,
   "id": "026f405d",
   "metadata": {},
   "outputs": [],
   "source": [
    "# Create a barchart for top 10 most popular book titles for users\n",
    "\n",
    "popular_titles_barchart = ratings_explicit['bookTitle'].value_counts()[1:11].sort_values(ascending = True).plot.barh(title = 'Top 10 Most Popular Book Titles', ylabel='Book Titles', xlabel='')\n",
    "plt.tight_layout()\n",
    "plt.savefig(os.path.join(path, '04 Analysis/Visualizations/popular_titles_barchart.png'))\n",
    "\n",
    "# Show the graph\n",
    "\n",
    "plt.show()"
   ]
  },
  {
   "cell_type": "code",
   "execution_count": null,
   "id": "25f069f1",
   "metadata": {},
   "outputs": [],
   "source": [
    "# Top average 10 book titles and ratings\n",
    "\n",
    "titles_avg = pd.DataFrame(ratings_explicit.groupby(['bookTitle'])['Book-Rating'].mean())\n",
    "avg10titles = titles_avg.sort_values('Book-Rating', ascending = False).head(10)"
   ]
  },
  {
   "cell_type": "code",
   "execution_count": null,
   "id": "c30f214c",
   "metadata": {},
   "outputs": [],
   "source": [
    "avg10titles  # The guide 'Passport's Guide to the Best of Scotland' is in the first position for average rating titles"
   ]
  },
  {
   "cell_type": "code",
   "execution_count": null,
   "id": "5cf92658",
   "metadata": {},
   "outputs": [],
   "source": [
    "# Lowest 10 book titles and ratings\n",
    "\n",
    "titles_low = pd.DataFrame(ratings_explicit.groupby(['bookTitle'])['Book-Rating'].min())\n",
    "avg10titles = titles_low.sort_values('Book-Rating', ascending = False).head(10)"
   ]
  },
  {
   "cell_type": "code",
   "execution_count": null,
   "id": "8c2e1b9e",
   "metadata": {},
   "outputs": [],
   "source": [
    "titles_low.head(10)"
   ]
  },
  {
   "cell_type": "code",
   "execution_count": null,
   "id": "edda0038",
   "metadata": {},
   "outputs": [],
   "source": [
    "ratings_explicit['Book-Rating'].describe()"
   ]
  },
  {
   "cell_type": "code",
   "execution_count": null,
   "id": "e0402230",
   "metadata": {},
   "outputs": [],
   "source": [
    "# Top 10 book authors and ratings\n",
    "\n",
    "ratings_count = pd.DataFrame(ratings_explicit.groupby(['bookAuthor'])['Book-Rating'].sum())\n",
    "top10authors = ratings_count.sort_values('Book-Rating', ascending = False).head(11)"
   ]
  },
  {
   "cell_type": "code",
   "execution_count": null,
   "id": "fa47d600",
   "metadata": {},
   "outputs": [],
   "source": [
    "top10authors  # Top 3 authors: Stephen King, followed by Nora Roberts and Josh Grisham are the most-read books"
   ]
  },
  {
   "cell_type": "code",
   "execution_count": null,
   "id": "50fa17f3",
   "metadata": {},
   "outputs": [],
   "source": [
    "# Create a barchart for top 10 most popular book authors for users\n",
    "\n",
    "popular_authors_barchart = ratings_explicit['bookAuthor'].value_counts()[1:11].sort_values(ascending = True).plot.barh(title = 'Top 10 Most Popular Book Authors', ylabel='Book Authors', xlabel='')\n",
    "plt.tight_layout()\n",
    "plt.savefig(os.path.join(path, '04 Analysis/Visualizations/popular_authors_barchart.png'))\n",
    "\n",
    "# Show the graph\n",
    "\n",
    "plt.show()"
   ]
  },
  {
   "cell_type": "code",
   "execution_count": null,
   "id": "3364d67c",
   "metadata": {},
   "outputs": [],
   "source": [
    "# Bottom 10 book authors and ratings\n",
    "\n",
    "ratings2_count = pd.DataFrame(ratings_explicit.groupby(['bookAuthor'])['Book-Rating'].min())\n",
    "bottom10authors = ratings2_count.sort_values('Book-Rating', ascending = True).head(10)"
   ]
  },
  {
   "cell_type": "code",
   "execution_count": null,
   "id": "b680618e",
   "metadata": {},
   "outputs": [],
   "source": [
    "bottom10authors # Bottom 3 authors: Gary Hauptman, D. Miller and D. Moore"
   ]
  },
  {
   "cell_type": "code",
   "execution_count": null,
   "id": "6079805b",
   "metadata": {
    "scrolled": true
   },
   "outputs": [],
   "source": [
    "# Top 10 book authors and ratings by country\n",
    "\n",
    "ratings3_count = pd.DataFrame(ratings_explicit.groupby(['bookAuthor','Country'])['Book-Rating'].sum())\n",
    "top10authors_countries = ratings3_count.sort_values('Book-Rating', ascending = False).head(10)\n",
    "\n",
    "top10authors_countries"
   ]
  },
  {
   "cell_type": "code",
   "execution_count": null,
   "id": "14885049",
   "metadata": {},
   "outputs": [],
   "source": [
    "# Bottom 10 book authors and ratings by country\n",
    "\n",
    "ratings4_count = pd.DataFrame(ratings_explicit.groupby(['bookAuthor','Country'])['Book-Rating'].min())\n",
    "bottom10authors_countries = ratings4_count.sort_values('Book-Rating', ascending = True).head(10)\n",
    "\n",
    "bottom10authors_countries"
   ]
  },
  {
   "cell_type": "markdown",
   "id": "403a9dd3",
   "metadata": {},
   "source": [
    "### *4. Can we identify trends in the popularity of specific authors or titles over time?*"
   ]
  },
  {
   "cell_type": "code",
   "execution_count": null,
   "id": "24af58a1",
   "metadata": {},
   "outputs": [],
   "source": [
    "# Top 50 book authors and ratings\n",
    "\n",
    "ratings_count = pd.DataFrame(ratings_explicit.groupby(['bookAuthor'])['Book-Rating'].sum())\n",
    "top25authors = ratings_count.sort_values('Book-Rating', ascending = False).head(25)"
   ]
  },
  {
   "cell_type": "code",
   "execution_count": null,
   "id": "2ded58e8",
   "metadata": {},
   "outputs": [],
   "source": [
    "top25authors  # Top 25 authors all time"
   ]
  },
  {
   "cell_type": "code",
   "execution_count": null,
   "id": "f90b3f06",
   "metadata": {},
   "outputs": [],
   "source": [
    "ratings_explicit['yearOfPublication'].describe()"
   ]
  },
  {
   "cell_type": "code",
   "execution_count": null,
   "id": "b4dc0ef9",
   "metadata": {
    "scrolled": true
   },
   "outputs": [],
   "source": [
    "#### Define Year Ranges\n",
    "\n",
    "def year_label(row):\n",
    "  if row['yearOfPublication'] <= 1376:\n",
    "    return '1376'\n",
    "  elif (row['yearOfPublication'] >= 1377) and (row['yearOfPublication'] <= 1477):\n",
    "    return '1377-1477'\n",
    "  elif (row['yearOfPublication'] >= 1478) and (row['yearOfPublication'] <= 1577):\n",
    "    return '1478-1577'\n",
    "  elif (row['yearOfPublication'] >= 1578) and (row['yearOfPublication'] <= 1677):\n",
    "    return '1578-1677'\n",
    "  elif (row['yearOfPublication'] >= 1678) and (row['yearOfPublication'] <= 1777):\n",
    "    return '1678-1777'\n",
    "  elif (row['yearOfPublication'] >= 1778) and (row['yearOfPublication'] <= 1877):\n",
    "    return '1778-1877'\n",
    "  elif (row['yearOfPublication'] >= 1878) and (row['yearOfPublication'] <= 1977):\n",
    "    return '1878-1977'\n",
    "  elif (row['yearOfPublication'] >= 1978) and (row['yearOfPublication'] <= 1987):\n",
    "    return '1978-1987'\n",
    "  elif (row['yearOfPublication'] >= 1988) and (row['yearOfPublication'] <= 1997):\n",
    "    return '1988-1997'\n",
    "  elif (row['yearOfPublication'] >= 1998) and (row['yearOfPublication'] <= 2006):\n",
    "    return '1998-2006'\n",
    "  else: return 'Not available'\n",
    "\n",
    "\n",
    "# Check the output\n",
    "\n",
    "ratings_explicit['yearRange'] = ratings_explicit.apply(year_label, axis = 1)"
   ]
  },
  {
   "cell_type": "code",
   "execution_count": null,
   "id": "b7ed11ca",
   "metadata": {},
   "outputs": [],
   "source": [
    "# Check the new category\n",
    "\n",
    "\n",
    "ratings_explicit['yearRange'].value_counts(dropna = False)"
   ]
  },
  {
   "cell_type": "code",
   "execution_count": null,
   "id": "c7c2bb62",
   "metadata": {},
   "outputs": [],
   "source": [
    "# Create 'authors_year_range'\n",
    "\n",
    "authors_year_range = ratings_explicit.loc[ratings_explicit['bookAuthor'].isin(['yearRange'])]\n",
    "\n",
    "# Check output\n",
    "\n",
    "authors_year_range.shape"
   ]
  },
  {
   "cell_type": "code",
   "execution_count": null,
   "id": "0c3a2cfe",
   "metadata": {
    "scrolled": true
   },
   "outputs": [],
   "source": [
    "ratings_explicit.head()"
   ]
  },
  {
   "cell_type": "code",
   "execution_count": null,
   "id": "60e40290",
   "metadata": {
    "scrolled": false
   },
   "outputs": [],
   "source": [
    "ratings_explicit.tail()"
   ]
  },
  {
   "cell_type": "code",
   "execution_count": null,
   "id": "4eee32e8",
   "metadata": {},
   "outputs": [],
   "source": [
    "# Top 100 book authors with ratings and ISBN by country\n",
    "\n",
    "ratings4_count = pd.DataFrame(ratings_explicit.groupby(['ISBN','bookAuthor','Country'])['Book-Rating'].sum())\n",
    "top100authors_ISBN_countries = ratings4_count.sort_values('Book-Rating', ascending = False).head(100)\n",
    "\n",
    "top100authors_ISBN_countries"
   ]
  },
  {
   "cell_type": "code",
   "execution_count": null,
   "id": "f34c55f9",
   "metadata": {
    "scrolled": false
   },
   "outputs": [],
   "source": [
    "# Top 50 book authors with ratings ISBN and yearRange by country\n",
    "\n",
    "ratings5_count = pd.DataFrame(ratings_explicit.groupby(['yearRange','ISBN','bookAuthor','Country'])['Book-Rating'].sum())\n",
    "top50authors_ISBN_yearRange = ratings5_count.sort_values('Book-Rating', ascending = False).head(50)\n",
    "\n",
    "top50authors_ISBN_yearRange"
   ]
  },
  {
   "cell_type": "code",
   "execution_count": null,
   "id": "8c301cf0",
   "metadata": {},
   "outputs": [],
   "source": [
    "# Top 100 book authors with ratings and ISBN by continent\n",
    "\n",
    "ratings6_count = pd.DataFrame(ratings_explicit.groupby(['ISBN','bookAuthor','Continent'])['Book-Rating'].sum())\n",
    "top100authors_ISBN_continent = ratings6_count.sort_values('Book-Rating', ascending = False).head(100)\n",
    "\n",
    "top100authors_ISBN_continent"
   ]
  },
  {
   "cell_type": "code",
   "execution_count": null,
   "id": "d30ffee6",
   "metadata": {
    "scrolled": true
   },
   "outputs": [],
   "source": [
    "# Top 50 book authors with ratings ISBN and yearRange by continent\n",
    "\n",
    "ratings7_count = pd.DataFrame(ratings_explicit.groupby(['yearRange','ISBN','bookAuthor','Continent'])['Book-Rating'].sum())\n",
    "top50authors_ISBN_yearRange_continent = ratings7_count.sort_values('Book-Rating', ascending = False).head(50)\n",
    "\n",
    "top50authors_ISBN_yearRange_continent"
   ]
  },
  {
   "cell_type": "code",
   "execution_count": null,
   "id": "2b3b629b",
   "metadata": {},
   "outputs": [],
   "source": [
    "# Top 100 book titles with ratings and ISBN by country\n",
    "\n",
    "titles_count = pd.DataFrame(ratings_explicit.groupby(['ISBN','bookTitle','Country'])['Book-Rating'].sum())\n",
    "top100titles_ISBN_countries = titles_count.sort_values('Book-Rating', ascending = False).head(100)\n",
    "\n",
    "top100titles_ISBN_countries"
   ]
  },
  {
   "cell_type": "code",
   "execution_count": null,
   "id": "e462ad78",
   "metadata": {},
   "outputs": [],
   "source": [
    "# Top 50 book titles with ratings ISBN and yearRange by country\n",
    "\n",
    "titles2_count = pd.DataFrame(ratings_explicit.groupby(['yearRange','ISBN','bookTitle','Country'])['Book-Rating'].sum())\n",
    "top50titles_ISBN_yearRange = titles2_count.sort_values('Book-Rating', ascending = False).head(50)\n",
    "\n",
    "top50titles_ISBN_yearRange"
   ]
  },
  {
   "cell_type": "code",
   "execution_count": null,
   "id": "7a4507fb",
   "metadata": {},
   "outputs": [],
   "source": [
    "# Top 100 book titles with ratings and ISBN by continent\n",
    "\n",
    "titles3_count = pd.DataFrame(ratings_explicit.groupby(['ISBN','bookTitle','Continent'])['Book-Rating'].sum())\n",
    "top100titles_ISBN_continent = titles3_count.sort_values('Book-Rating', ascending = False).head(100)\n",
    "\n",
    "top100titles_ISBN_continent"
   ]
  },
  {
   "cell_type": "code",
   "execution_count": null,
   "id": "96c91322",
   "metadata": {
    "scrolled": true
   },
   "outputs": [],
   "source": [
    "# Top 50 book titles with ratings ISBN and yearRange by continent\n",
    "\n",
    "titles4_count = pd.DataFrame(ratings_explicit.groupby(['yearRange','ISBN','bookTitle','Continent'])['Book-Rating'].sum())\n",
    "top50titles_ISBN_yearRange_continent = titles4_count.sort_values('Book-Rating', ascending = False).head(50)\n",
    "\n",
    "top50titles_ISBN_yearRange_continent"
   ]
  },
  {
   "cell_type": "code",
   "execution_count": null,
   "id": "c584c3f5",
   "metadata": {},
   "outputs": [],
   "source": [
    "# Top 100 book titles and authors with ratings and ISBN by country\n",
    "\n",
    "titles_authors_count = pd.DataFrame(ratings_explicit.groupby(['ISBN','Country','bookTitle','bookAuthor'])['Book-Rating'].sum())\n",
    "top100titlesAuthors_ISBN_countries = titles_authors_count.sort_values('Book-Rating', ascending = False).head(100)\n",
    "\n",
    "top100titlesAuthors_ISBN_countries"
   ]
  },
  {
   "cell_type": "code",
   "execution_count": null,
   "id": "d33a8fee",
   "metadata": {
    "scrolled": true
   },
   "outputs": [],
   "source": [
    "# Top 50 book titles and authors with ratings ISBN and yearRange by country\n",
    "\n",
    "titles2_authors_count = pd.DataFrame(ratings_explicit.groupby(['yearRange','ISBN','Country','bookTitle','bookAuthor'])['Book-Rating'].sum())\n",
    "top50titlesAuthors_ISBN_yearRange = titles2_authors_count.sort_values('Book-Rating', ascending = False).head(50)\n",
    "\n",
    "top50titlesAuthors_ISBN_yearRange"
   ]
  },
  {
   "cell_type": "code",
   "execution_count": null,
   "id": "948270c7",
   "metadata": {},
   "outputs": [],
   "source": [
    "# Top 100 book titles and authors with ratings and ISBN by continent\n",
    "\n",
    "titles3_authors_count = pd.DataFrame(ratings_explicit.groupby(['ISBN','Continent','bookTitle','bookAuthor'])['Book-Rating'].sum())\n",
    "top100titlesAuthors_ISBN_continent = titles3_authors_count.sort_values('Book-Rating', ascending = False).head(100)\n",
    "\n",
    "top100titlesAuthors_ISBN_continent"
   ]
  },
  {
   "cell_type": "code",
   "execution_count": null,
   "id": "474484e9",
   "metadata": {},
   "outputs": [],
   "source": [
    "# Top 50 book titles and authors with ratings ISBN and yearRange by continent\n",
    "\n",
    "titles4_authors_count = pd.DataFrame(ratings_explicit.groupby(['yearRange','ISBN','Continent','bookTitle','bookAuthor'])['Book-Rating'].sum())\n",
    "top50titlesAuthors_ISBN_yearRange_continent = titles4_authors_count.sort_values('Book-Rating', ascending = False).head(50)\n",
    "\n",
    "top50titlesAuthors_ISBN_yearRange_continent"
   ]
  },
  {
   "cell_type": "markdown",
   "id": "ae87cdc8",
   "metadata": {},
   "source": [
    "### *Answers for Question 4*:\n",
    "\n",
    "- We grouped the data by year range, country or continent along with the book titles and/or authors:\n",
    "* The author with the highest number of readers between 1998 and 2006 is Alice Sebold with the novel \"The Lovely Bones\""
   ]
  },
  {
   "cell_type": "markdown",
   "id": "d060f267",
   "metadata": {},
   "source": [
    "### *5. Are there noticeable differences in reading levels among age groups?*"
   ]
  },
  {
   "cell_type": "code",
   "execution_count": null,
   "id": "b2e77593",
   "metadata": {},
   "outputs": [],
   "source": [
    "# Group by 'yearRange', 'Continent' and 'Age Group'\n",
    "\n",
    "year_continent_age_group = ratings_explicit.groupby(['yearRange', 'Continent', 'Age Group']).size().unstack()\n",
    "\n",
    "year_continent_age_group = year_continent_age_group.loc[year_continent_age_group.sum(axis = 1).sort_values(ascending = True).index]\n",
    "\n",
    "# Check output\n",
    "\n",
    "year_continent_age_group"
   ]
  },
  {
   "cell_type": "code",
   "execution_count": null,
   "id": "490fda14",
   "metadata": {},
   "outputs": [],
   "source": [
    "# Group by 'yearRange' and 'Continent'\n",
    "\n",
    "year_continent_group = ratings_explicit.groupby(['yearRange', 'Continent']).size().unstack()\n",
    "\n",
    "year_continent_group = year_continent_group.loc[year_continent_group.sum(axis = 1).sort_values(ascending = True).index]\n",
    "\n",
    "# Check output\n",
    "\n",
    "year_continent_group"
   ]
  },
  {
   "cell_type": "code",
   "execution_count": null,
   "id": "6021bdbf",
   "metadata": {},
   "outputs": [],
   "source": [
    "# Create bar chart for 'continent_year_range'\n",
    "\n",
    "year_continent_group_bar = year_continent_group.plot.barh(stacked = True)\n",
    "\n",
    "# Title and labels\n",
    "\n",
    "plt.title('Continent by Periods')\n",
    "plt.xlabel('Count')\n",
    "plt.ylabel('Year Range')\n",
    "plt.tight_layout()\n",
    "plt.savefig(os.path.join(path, '04 Analysis/Visualizations/year_continent_group_bar.png'))\n",
    "\n",
    "# Show the graph\n",
    "\n",
    "plt.show()"
   ]
  },
  {
   "cell_type": "code",
   "execution_count": null,
   "id": "a0983ec8",
   "metadata": {},
   "outputs": [],
   "source": [
    "# Group by 'Age Group', 'yearRange', and 'Continent'\n",
    "\n",
    "age_year_continent = ratings_explicit.groupby(['Age Group','yearRange', 'Continent']).size().unstack()\n",
    "\n",
    "age_year_continent = age_year_continent.loc[age_year_continent.sum(axis = 1).sort_values(ascending = True).index]\n",
    "\n",
    "# Check output\n",
    "\n",
    "age_year_continent"
   ]
  },
  {
   "cell_type": "code",
   "execution_count": null,
   "id": "dbf7c527",
   "metadata": {},
   "outputs": [],
   "source": [
    "# Create bar chart for 'age_year_continent'\n",
    "\n",
    "age_year_continent_bar = age_year_continent.plot.barh(stacked = True)\n",
    "\n",
    "# Title and labels\n",
    "\n",
    "plt.title('Age Group by Periods & Continent')\n",
    "plt.xlabel('Count')\n",
    "plt.ylabel('Year Range')\n",
    "plt.tight_layout()\n",
    "plt.savefig(os.path.join(path, '04 Analysis/Visualizations/age_year_continent_bar.png'))\n",
    "\n",
    "# Show the graph\n",
    "\n",
    "plt.show()"
   ]
  },
  {
   "cell_type": "markdown",
   "id": "6865ca3d",
   "metadata": {},
   "source": [
    "### *Answers for Question 5*:\n",
    "\n",
    " Are there noticeable differences in reading levels among age groups?*\n",
    "    \n",
    "- As mentioned earlier for the question number 2, the data analysis showcases the 19-35 years old group as\n",
    "the most regular readers between 1988 and 2006, followed by the 36-55 years old group for the same period"
   ]
  },
  {
   "cell_type": "code",
   "execution_count": null,
   "id": "f8a5fe2b",
   "metadata": {},
   "outputs": [],
   "source": [
    "# Exporting 'df' dataframe\n",
    "\n",
    "df.to_pickle(os.path.join(path, '02 Data','Prepared Data', 'df.pkl'))"
   ]
  },
  {
   "cell_type": "code",
   "execution_count": null,
   "id": "72aa45b2",
   "metadata": {},
   "outputs": [],
   "source": [
    "# Exporting 'ratings_implicit' dataframe\n",
    "\n",
    "ratings_implicit.to_pickle(os.path.join(path, '02 Data','Prepared Data', 'ratings_implicit.pkl'))"
   ]
  },
  {
   "cell_type": "code",
   "execution_count": null,
   "id": "9c67ba77",
   "metadata": {},
   "outputs": [],
   "source": [
    "# Exporting 'ratings_explicit' dataframe\n",
    "\n",
    "ratings_explicit.to_pickle(os.path.join(path, '02 Data','Prepared Data', 'ratings_explicit.pkl'))"
   ]
  },
  {
   "cell_type": "code",
   "execution_count": null,
   "id": "b8d2b5a1",
   "metadata": {},
   "outputs": [],
   "source": [
    "# Exporting 'ratings_explicit' dataframe\n",
    "\n",
    "ratings_explicit.to_csv(os.path.join(path, '02 Data','Prepared Data', 'ratings_explicit.csv'))"
   ]
  }
 ],
 "metadata": {
  "kernelspec": {
   "display_name": "Python 3 (ipykernel)",
   "language": "python",
   "name": "python3"
  },
  "language_info": {
   "codemirror_mode": {
    "name": "ipython",
    "version": 3
   },
   "file_extension": ".py",
   "mimetype": "text/x-python",
   "name": "python",
   "nbconvert_exporter": "python",
   "pygments_lexer": "ipython3",
   "version": "3.11.5"
  }
 },
 "nbformat": 4,
 "nbformat_minor": 5
}
